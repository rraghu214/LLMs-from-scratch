{
 "cells": [
  {
   "cell_type": "code",
   "id": "initial_id",
   "metadata": {
    "collapsed": true,
    "ExecuteTime": {
     "end_time": "2025-08-10T16:42:08.528577Z",
     "start_time": "2025-08-10T16:42:07.014638Z"
    }
   },
   "source": "import numpy as np",
   "outputs": [],
   "execution_count": 1
  },
  {
   "metadata": {
    "ExecuteTime": {
     "end_time": "2025-08-10T16:42:27.483266Z",
     "start_time": "2025-08-10T16:42:27.467270Z"
    }
   },
   "cell_type": "code",
   "source": "vec = np.array([1,2,3]) # A simple 3D vector",
   "id": "b63903ff8a10c045",
   "outputs": [],
   "execution_count": 2
  },
  {
   "metadata": {
    "ExecuteTime": {
     "end_time": "2025-08-10T16:42:31.833529Z",
     "start_time": "2025-08-10T16:42:31.824530Z"
    }
   },
   "cell_type": "code",
   "source": "type(vec)",
   "id": "a3e3d90002633ce5",
   "outputs": [
    {
     "data": {
      "text/plain": [
       "numpy.ndarray"
      ]
     },
     "execution_count": 3,
     "metadata": {},
     "output_type": "execute_result"
    }
   ],
   "execution_count": 3
  },
  {
   "metadata": {
    "ExecuteTime": {
     "end_time": "2025-08-10T16:43:04.064563Z",
     "start_time": "2025-08-10T16:43:04.058646Z"
    }
   },
   "cell_type": "code",
   "source": "vec.shape",
   "id": "d747c3982cb4cd92",
   "outputs": [
    {
     "data": {
      "text/plain": [
       "(3,)"
      ]
     },
     "execution_count": 4,
     "metadata": {},
     "output_type": "execute_result"
    }
   ],
   "execution_count": 4
  },
  {
   "metadata": {
    "ExecuteTime": {
     "end_time": "2025-08-10T16:43:39.752188Z",
     "start_time": "2025-08-10T16:43:39.744702Z"
    }
   },
   "cell_type": "code",
   "source": [
    "print(vec[:2])\n",
    "print(vec[-3:])\n",
    "print(vec[1:3])"
   ],
   "id": "945afc83dfe453c5",
   "outputs": [
    {
     "name": "stdout",
     "output_type": "stream",
     "text": [
      "[1 2]\n",
      "[1 2 3]\n",
      "[2 3]\n"
     ]
    }
   ],
   "execution_count": 7
  },
  {
   "metadata": {},
   "cell_type": "markdown",
   "source": [
    "#### Lists are fine for storage but vectors in numpy are designed for mathematical operations\n",
    "#### Like using a plus or multiply operator in lists just repeats the lists. But in numpy does actual operations are performed."
   ],
   "id": "17ab18c4e815e859"
  },
  {
   "metadata": {
    "ExecuteTime": {
     "end_time": "2025-08-10T16:46:26.721294Z",
     "start_time": "2025-08-10T16:46:26.716292Z"
    }
   },
   "cell_type": "markdown",
   "source": "### Vectorised Operations",
   "id": "5e1d008855dfc94c"
  },
  {
   "metadata": {
    "ExecuteTime": {
     "end_time": "2025-08-10T16:58:34.926117Z",
     "start_time": "2025-08-10T16:58:34.920152Z"
    }
   },
   "cell_type": "code",
   "source": [
    "vec = np.array([1,2,3])\n",
    "other = np.array([6,5,4])\n",
    "\n",
    "# Element wise operations\n",
    "\n",
    "print(vec+ other)\n",
    "print(vec * 2)\n",
    "print(vec ** 2)"
   ],
   "id": "3a511153bd359287",
   "outputs": [
    {
     "name": "stdout",
     "output_type": "stream",
     "text": [
      "[7 7 7]\n",
      "[2 4 6]\n",
      "[1 4 9]\n"
     ]
    }
   ],
   "execution_count": 10
  },
  {
   "metadata": {
    "ExecuteTime": {
     "end_time": "2025-08-10T16:59:26.693217Z",
     "start_time": "2025-08-10T16:59:26.678248Z"
    }
   },
   "cell_type": "code",
   "source": " np.identity(3)",
   "id": "70aa6c6c405f8b96",
   "outputs": [
    {
     "data": {
      "text/plain": [
       "array([[1., 0., 0.],\n",
       "       [0., 1., 0.],\n",
       "       [0., 0., 1.]])"
      ]
     },
     "execution_count": 14,
     "metadata": {},
     "output_type": "execute_result"
    }
   ],
   "execution_count": 14
  },
  {
   "metadata": {
    "ExecuteTime": {
     "end_time": "2025-08-10T17:00:31.653880Z",
     "start_time": "2025-08-10T17:00:31.636998Z"
    }
   },
   "cell_type": "code",
   "source": "np.zeros((3,3))",
   "id": "7b72f84a0e3abef1",
   "outputs": [
    {
     "data": {
      "text/plain": [
       "array([[0., 0., 0.],\n",
       "       [0., 0., 0.],\n",
       "       [0., 0., 0.]])"
      ]
     },
     "execution_count": 19,
     "metadata": {},
     "output_type": "execute_result"
    }
   ],
   "execution_count": 19
  },
  {
   "metadata": {},
   "cell_type": "markdown",
   "source": "### Aggregations",
   "id": "29a96e3953eef981"
  },
  {
   "metadata": {
    "ExecuteTime": {
     "end_time": "2025-08-10T17:01:15.880991Z",
     "start_time": "2025-08-10T17:01:15.866696Z"
    }
   },
   "cell_type": "code",
   "source": [
    "print(np.sum(vec))\n",
    "print(np.mean(vec))\n",
    "print(np.std(vec))"
   ],
   "id": "f41ba8192ebcf92b",
   "outputs": [
    {
     "name": "stdout",
     "output_type": "stream",
     "text": [
      "6\n",
      "2.0\n",
      "0.816496580927726\n"
     ]
    }
   ],
   "execution_count": 20
  },
  {
   "metadata": {
    "ExecuteTime": {
     "end_time": "2025-08-10T17:02:24.841327Z",
     "start_time": "2025-08-10T17:02:24.835837Z"
    }
   },
   "cell_type": "code",
   "source": "np.arange(5)",
   "id": "44016092e965d11c",
   "outputs": [
    {
     "data": {
      "text/plain": [
       "array([0, 1, 2, 3, 4])"
      ]
     },
     "execution_count": 21,
     "metadata": {},
     "output_type": "execute_result"
    }
   ],
   "execution_count": 21
  },
  {
   "metadata": {
    "ExecuteTime": {
     "end_time": "2025-08-10T17:03:32.525218Z",
     "start_time": "2025-08-10T17:03:32.519702Z"
    }
   },
   "cell_type": "code",
   "source": "np.arange(1,11,2)",
   "id": "48ef7d356bfbcb2d",
   "outputs": [
    {
     "data": {
      "text/plain": [
       "array([1, 3, 5, 7, 9])"
      ]
     },
     "execution_count": 22,
     "metadata": {},
     "output_type": "execute_result"
    }
   ],
   "execution_count": 22
  },
  {
   "metadata": {
    "ExecuteTime": {
     "end_time": "2025-08-10T17:04:16.735567Z",
     "start_time": "2025-08-10T17:04:16.730102Z"
    }
   },
   "cell_type": "code",
   "source": "np.arange(11,122,11)",
   "id": "c3a3771dd65f0a3a",
   "outputs": [
    {
     "data": {
      "text/plain": [
       "array([ 11,  22,  33,  44,  55,  66,  77,  88,  99, 110, 121])"
      ]
     },
     "execution_count": 25,
     "metadata": {},
     "output_type": "execute_result"
    }
   ],
   "execution_count": 25
  },
  {
   "metadata": {
    "ExecuteTime": {
     "end_time": "2025-08-10T17:06:05.326156Z",
     "start_time": "2025-08-10T17:06:05.315258Z"
    }
   },
   "cell_type": "code",
   "source": "np.linspace(0,1,5) # Creates an array of evenly spaced numbers over a specified interval",
   "id": "cfb5bcba79aacd09",
   "outputs": [
    {
     "data": {
      "text/plain": [
       "array([0.  , 0.25, 0.5 , 0.75, 1.  ])"
      ]
     },
     "execution_count": 27,
     "metadata": {},
     "output_type": "execute_result"
    }
   ],
   "execution_count": 27
  },
  {
   "metadata": {
    "ExecuteTime": {
     "end_time": "2025-08-10T17:07:02.272453Z",
     "start_time": "2025-08-10T17:07:02.267572Z"
    }
   },
   "cell_type": "code",
   "source": "np.linspace(0,100,9)",
   "id": "b4a1d26d8869bbba",
   "outputs": [
    {
     "data": {
      "text/plain": [
       "array([  0. ,  12.5,  25. ,  37.5,  50. ,  62.5,  75. ,  87.5, 100. ])"
      ]
     },
     "execution_count": 34,
     "metadata": {},
     "output_type": "execute_result"
    }
   ],
   "execution_count": 34
  },
  {
   "metadata": {
    "ExecuteTime": {
     "end_time": "2025-08-10T17:07:39.335843Z",
     "start_time": "2025-08-10T17:07:39.320675Z"
    }
   },
   "cell_type": "code",
   "source": "np.random.rand(3) # Random 3D Vector",
   "id": "987fe9f0128bde3b",
   "outputs": [
    {
     "data": {
      "text/plain": [
       "array([0.59455112, 0.70860485, 0.79248711])"
      ]
     },
     "execution_count": 37,
     "metadata": {},
     "output_type": "execute_result"
    }
   ],
   "execution_count": 37
  },
  {
   "metadata": {},
   "cell_type": "code",
   "outputs": [],
   "execution_count": null,
   "source": "",
   "id": "e18c68cd1cd31d15"
  }
 ],
 "metadata": {
  "kernelspec": {
   "display_name": "Python 3",
   "language": "python",
   "name": "python3"
  },
  "language_info": {
   "codemirror_mode": {
    "name": "ipython",
    "version": 2
   },
   "file_extension": ".py",
   "mimetype": "text/x-python",
   "name": "python",
   "nbconvert_exporter": "python",
   "pygments_lexer": "ipython2",
   "version": "2.7.6"
  }
 },
 "nbformat": 4,
 "nbformat_minor": 5
}
