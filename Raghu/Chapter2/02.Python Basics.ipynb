{
 "cells": [
  {
   "cell_type": "code",
   "id": "b8654974-6c34-4c40-a8d3-3c9b01593702",
   "metadata": {
    "ExecuteTime": {
     "end_time": "2025-08-10T06:49:24.735680Z",
     "start_time": "2025-08-10T06:49:24.730682Z"
    }
   },
   "source": [
    "from opt_einsum.parser import parse_einsum_input\n",
    "\n",
    "x = 5\n",
    "name = \"Raghu\"\n",
    "pi = 3.1459\n",
    "is_active = True"
   ],
   "outputs": [],
   "execution_count": 2
  },
  {
   "cell_type": "code",
   "id": "5b187299-d9a1-4c93-9305-a56953b14fa3",
   "metadata": {
    "ExecuteTime": {
     "end_time": "2025-08-10T06:49:25.954490Z",
     "start_time": "2025-08-10T06:49:25.948483Z"
    }
   },
   "source": [
    "print(f\"x is {type(x)}\")\n",
    "print(f\"name is {type(name)}\")\n",
    "print(f\"pi is {type(pi)}\")\n",
    "print(f\"is_active is {type(is_active)}\")"
   ],
   "outputs": [
    {
     "name": "stdout",
     "output_type": "stream",
     "text": [
      "x is <class 'int'>\n",
      "name is <class 'str'>\n",
      "pi is <class 'float'>\n",
      "is_active is <class 'bool'>\n"
     ]
    }
   ],
   "execution_count": 3
  },
  {
   "cell_type": "code",
   "id": "b199b19e-f3b4-4bb8-a6d2-80d8ee3f76f6",
   "metadata": {
    "ExecuteTime": {
     "end_time": "2025-08-10T08:37:24.771463Z",
     "start_time": "2025-08-10T08:37:24.757464Z"
    }
   },
   "source": "fruits = [\"apple\", \"banana\", \"cherry\",\"orange\",\"grapes\"]",
   "outputs": [],
   "execution_count": 4
  },
  {
   "metadata": {
    "ExecuteTime": {
     "end_time": "2025-08-10T08:37:30.089931Z",
     "start_time": "2025-08-10T08:37:30.052347Z"
    }
   },
   "cell_type": "code",
   "source": "type(fruits)",
   "id": "e2740eebfd09d574",
   "outputs": [
    {
     "data": {
      "text/plain": [
       "list"
      ]
     },
     "execution_count": 5,
     "metadata": {},
     "output_type": "execute_result"
    }
   ],
   "execution_count": 5
  },
  {
   "metadata": {
    "ExecuteTime": {
     "end_time": "2025-08-10T08:43:09.165444Z",
     "start_time": "2025-08-10T08:43:09.158949Z"
    }
   },
   "cell_type": "code",
   "source": "len(fruits)",
   "id": "3d0e87002b2b7d3f",
   "outputs": [
    {
     "data": {
      "text/plain": [
       "5"
      ]
     },
     "execution_count": 6,
     "metadata": {},
     "output_type": "execute_result"
    }
   ],
   "execution_count": 6
  },
  {
   "metadata": {
    "ExecuteTime": {
     "end_time": "2025-08-10T08:43:16.061549Z",
     "start_time": "2025-08-10T08:43:16.040965Z"
    }
   },
   "cell_type": "code",
   "source": "fruits[-1]",
   "id": "81c9a41297969e3e",
   "outputs": [
    {
     "data": {
      "text/plain": [
       "'grapes'"
      ]
     },
     "execution_count": 7,
     "metadata": {},
     "output_type": "execute_result"
    }
   ],
   "execution_count": 7
  },
  {
   "metadata": {
    "ExecuteTime": {
     "end_time": "2025-08-10T08:43:22.868943Z",
     "start_time": "2025-08-10T08:43:22.845984Z"
    }
   },
   "cell_type": "code",
   "source": "fruits[1:3]",
   "id": "1fd8c43a6c4e54d2",
   "outputs": [
    {
     "data": {
      "text/plain": [
       "['banana', 'cherry']"
      ]
     },
     "execution_count": 8,
     "metadata": {},
     "output_type": "execute_result"
    }
   ],
   "execution_count": 8
  },
  {
   "metadata": {
    "ExecuteTime": {
     "end_time": "2025-08-10T08:43:28.796881Z",
     "start_time": "2025-08-10T08:43:28.704040Z"
    }
   },
   "cell_type": "code",
   "source": "fruits[9]",
   "id": "41578603fd9fd323",
   "outputs": [
    {
     "ename": "IndexError",
     "evalue": "list index out of range",
     "output_type": "error",
     "traceback": [
      "\u001B[31m---------------------------------------------------------------------------\u001B[39m",
      "\u001B[31mIndexError\u001B[39m                                Traceback (most recent call last)",
      "\u001B[36mCell\u001B[39m\u001B[36m \u001B[39m\u001B[32mIn[9]\u001B[39m\u001B[32m, line 1\u001B[39m\n\u001B[32m----> \u001B[39m\u001B[32m1\u001B[39m \u001B[43mfruits\u001B[49m\u001B[43m[\u001B[49m\u001B[32;43m9\u001B[39;49m\u001B[43m]\u001B[49m\n",
      "\u001B[31mIndexError\u001B[39m: list index out of range"
     ]
    }
   ],
   "execution_count": 9
  },
  {
   "metadata": {
    "ExecuteTime": {
     "end_time": "2025-08-10T08:43:44.602745Z",
     "start_time": "2025-08-10T08:43:44.598189Z"
    }
   },
   "cell_type": "code",
   "source": "fruits.append(\"guava\")",
   "id": "9242ba24401a43f",
   "outputs": [],
   "execution_count": 10
  },
  {
   "metadata": {
    "ExecuteTime": {
     "end_time": "2025-08-10T08:43:51.332213Z",
     "start_time": "2025-08-10T08:43:51.327330Z"
    }
   },
   "cell_type": "code",
   "source": "fruits",
   "id": "e08d29670098dbd5",
   "outputs": [
    {
     "data": {
      "text/plain": [
       "['apple', 'banana', 'cherry', 'orange', 'grapes', 'guava']"
      ]
     },
     "execution_count": 11,
     "metadata": {},
     "output_type": "execute_result"
    }
   ],
   "execution_count": 11
  },
  {
   "metadata": {
    "ExecuteTime": {
     "end_time": "2025-08-10T08:44:00.468624Z",
     "start_time": "2025-08-10T08:44:00.463690Z"
    }
   },
   "cell_type": "code",
   "source": "fruits.insert(1,\"pear\")",
   "id": "e90bcd7f7d34406d",
   "outputs": [],
   "execution_count": 12
  },
  {
   "metadata": {
    "ExecuteTime": {
     "end_time": "2025-08-10T08:44:07.838832Z",
     "start_time": "2025-08-10T08:44:07.829835Z"
    }
   },
   "cell_type": "code",
   "source": "fruits",
   "id": "c3f0b74dbb20a52b",
   "outputs": [
    {
     "data": {
      "text/plain": [
       "['apple', 'pear', 'banana', 'cherry', 'orange', 'grapes', 'guava']"
      ]
     },
     "execution_count": 13,
     "metadata": {},
     "output_type": "execute_result"
    }
   ],
   "execution_count": 13
  },
  {
   "metadata": {
    "ExecuteTime": {
     "end_time": "2025-08-10T08:44:37.499662Z",
     "start_time": "2025-08-10T08:44:37.491589Z"
    }
   },
   "cell_type": "code",
   "source": "fruits.remove(\"banana\")",
   "id": "4b9eb3d857ba1637",
   "outputs": [],
   "execution_count": 14
  },
  {
   "metadata": {
    "ExecuteTime": {
     "end_time": "2025-08-10T08:44:48.815370Z",
     "start_time": "2025-08-10T08:44:48.798503Z"
    }
   },
   "cell_type": "code",
   "source": "fruits",
   "id": "d33dd6da7e3a84e4",
   "outputs": [
    {
     "data": {
      "text/plain": [
       "['apple', 'pear', 'cherry', 'orange', 'grapes', 'guava']"
      ]
     },
     "execution_count": 15,
     "metadata": {},
     "output_type": "execute_result"
    }
   ],
   "execution_count": 15
  },
  {
   "metadata": {
    "ExecuteTime": {
     "end_time": "2025-08-10T08:45:01.398564Z",
     "start_time": "2025-08-10T08:45:01.377689Z"
    }
   },
   "cell_type": "code",
   "source": "del fruits[0]",
   "id": "87b571e6fd42cde3",
   "outputs": [],
   "execution_count": 16
  },
  {
   "metadata": {
    "ExecuteTime": {
     "end_time": "2025-08-10T08:45:03.324560Z",
     "start_time": "2025-08-10T08:45:03.319564Z"
    }
   },
   "cell_type": "code",
   "source": "fruits",
   "id": "11bdd0ff05788850",
   "outputs": [
    {
     "data": {
      "text/plain": [
       "['pear', 'cherry', 'orange', 'grapes', 'guava']"
      ]
     },
     "execution_count": 17,
     "metadata": {},
     "output_type": "execute_result"
    }
   ],
   "execution_count": 17
  },
  {
   "metadata": {
    "ExecuteTime": {
     "end_time": "2025-08-10T08:45:24.297294Z",
     "start_time": "2025-08-10T08:45:24.290150Z"
    }
   },
   "cell_type": "code",
   "source": "fruit = fruits.pop(1)",
   "id": "fd63a831e42f7cc7",
   "outputs": [],
   "execution_count": 18
  },
  {
   "metadata": {
    "ExecuteTime": {
     "end_time": "2025-08-10T08:45:26.702033Z",
     "start_time": "2025-08-10T08:45:26.685899Z"
    }
   },
   "cell_type": "code",
   "source": "fruit",
   "id": "669c27ee230840ce",
   "outputs": [
    {
     "data": {
      "text/plain": [
       "'cherry'"
      ]
     },
     "execution_count": 19,
     "metadata": {},
     "output_type": "execute_result"
    }
   ],
   "execution_count": 19
  },
  {
   "metadata": {
    "ExecuteTime": {
     "end_time": "2025-08-10T08:45:54.770364Z",
     "start_time": "2025-08-10T08:45:54.766364Z"
    }
   },
   "cell_type": "code",
   "source": "fruits[1] = \"mango\"",
   "id": "9789f7bf7e522118",
   "outputs": [],
   "execution_count": 21
  },
  {
   "metadata": {
    "ExecuteTime": {
     "end_time": "2025-08-10T08:45:56.686219Z",
     "start_time": "2025-08-10T08:45:56.671055Z"
    }
   },
   "cell_type": "code",
   "source": "fruits",
   "id": "6ae7fff1c7f4b428",
   "outputs": [
    {
     "data": {
      "text/plain": [
       "['pear', 'mango', 'grapes', 'guava']"
      ]
     },
     "execution_count": 22,
     "metadata": {},
     "output_type": "execute_result"
    }
   ],
   "execution_count": 22
  },
  {
   "metadata": {
    "ExecuteTime": {
     "end_time": "2025-08-10T09:50:27.674663Z",
     "start_time": "2025-08-10T09:50:27.670663Z"
    }
   },
   "cell_type": "code",
   "source": [
    "fruits = [\"apple\", \"banana\", \"cherry\",\"orange\"]\n",
    "exotic_fruits = [\"mangosteen\", \"rambutan\",\"strawberry\"]"
   ],
   "id": "8a6838a9d456797a",
   "outputs": [],
   "execution_count": 29
  },
  {
   "metadata": {
    "ExecuteTime": {
     "end_time": "2025-08-10T09:50:28.616302Z",
     "start_time": "2025-08-10T09:50:28.612372Z"
    }
   },
   "cell_type": "code",
   "source": "fruits.extend(exotic_fruits)",
   "id": "54430395ba9577ad",
   "outputs": [],
   "execution_count": 30
  },
  {
   "metadata": {
    "ExecuteTime": {
     "end_time": "2025-08-10T09:50:29.094003Z",
     "start_time": "2025-08-10T09:50:29.088613Z"
    }
   },
   "cell_type": "code",
   "source": "fruits",
   "id": "237f64a154ddf61b",
   "outputs": [
    {
     "data": {
      "text/plain": [
       "['apple', 'banana', 'cherry', 'orange', 'mangosteen', 'rambutan', 'strawberry']"
      ]
     },
     "execution_count": 31,
     "metadata": {},
     "output_type": "execute_result"
    }
   ],
   "execution_count": 31
  },
  {
   "metadata": {
    "ExecuteTime": {
     "end_time": "2025-08-10T09:50:31.480956Z",
     "start_time": "2025-08-10T09:50:31.476692Z"
    }
   },
   "cell_type": "code",
   "source": [
    "fruits = [\"apple\", \"banana\", \"cherry\",\"orange\"]\n",
    "exotic_fruits = [\"mangosteen\", \"rambutan\",\"strawberry\"]"
   ],
   "id": "6896c11050ec36d5",
   "outputs": [],
   "execution_count": 32
  },
  {
   "metadata": {
    "ExecuteTime": {
     "end_time": "2025-08-10T09:50:39.681835Z",
     "start_time": "2025-08-10T09:50:39.678567Z"
    }
   },
   "cell_type": "code",
   "source": "all_fruits=fruits+exotic_fruits",
   "id": "5393b08258de0b5a",
   "outputs": [],
   "execution_count": 33
  },
  {
   "metadata": {
    "ExecuteTime": {
     "end_time": "2025-08-10T09:50:41.666446Z",
     "start_time": "2025-08-10T09:50:41.660447Z"
    }
   },
   "cell_type": "code",
   "source": "all_fruits",
   "id": "b5c15b7f44ab94d2",
   "outputs": [
    {
     "data": {
      "text/plain": [
       "['apple', 'banana', 'cherry', 'orange', 'mangosteen', 'rambutan', 'strawberry']"
      ]
     },
     "execution_count": 34,
     "metadata": {},
     "output_type": "execute_result"
    }
   ],
   "execution_count": 34
  },
  {
   "metadata": {
    "ExecuteTime": {
     "end_time": "2025-08-10T09:52:12.398649Z",
     "start_time": "2025-08-10T09:52:12.394720Z"
    }
   },
   "cell_type": "code",
   "source": "coordinates=(5,10)",
   "id": "9c3da56a2402ff14",
   "outputs": [],
   "execution_count": 35
  },
  {
   "metadata": {
    "ExecuteTime": {
     "end_time": "2025-08-10T09:52:22.149292Z",
     "start_time": "2025-08-10T09:52:22.112345Z"
    }
   },
   "cell_type": "code",
   "source": "coordinates[0]=12",
   "id": "d10a11cfac61a244",
   "outputs": [
    {
     "ename": "TypeError",
     "evalue": "'tuple' object does not support item assignment",
     "output_type": "error",
     "traceback": [
      "\u001B[31m---------------------------------------------------------------------------\u001B[39m",
      "\u001B[31mTypeError\u001B[39m                                 Traceback (most recent call last)",
      "\u001B[36mCell\u001B[39m\u001B[36m \u001B[39m\u001B[32mIn[38]\u001B[39m\u001B[32m, line 1\u001B[39m\n\u001B[32m----> \u001B[39m\u001B[32m1\u001B[39m \u001B[43mcoordinates\u001B[49m\u001B[43m[\u001B[49m\u001B[32;43m0\u001B[39;49m\u001B[43m]\u001B[49m=\u001B[32m12\u001B[39m\n",
      "\u001B[31mTypeError\u001B[39m: 'tuple' object does not support item assignment"
     ]
    }
   ],
   "execution_count": 38
  },
  {
   "metadata": {
    "ExecuteTime": {
     "end_time": "2025-08-10T09:53:06.102302Z",
     "start_time": "2025-08-10T09:53:06.098811Z"
    }
   },
   "cell_type": "code",
   "source": "coordinates=(12,34,22)",
   "id": "c1c0c8662270a9e3",
   "outputs": [],
   "execution_count": 40
  },
  {
   "metadata": {
    "ExecuteTime": {
     "end_time": "2025-08-10T09:53:10.805728Z",
     "start_time": "2025-08-10T09:53:10.800674Z"
    }
   },
   "cell_type": "code",
   "source": "coordinates",
   "id": "65ef1bec3e157fd6",
   "outputs": [
    {
     "data": {
      "text/plain": [
       "(12, 34, 22)"
      ]
     },
     "execution_count": 41,
     "metadata": {},
     "output_type": "execute_result"
    }
   ],
   "execution_count": 41
  },
  {
   "metadata": {
    "ExecuteTime": {
     "end_time": "2025-08-10T09:53:28.618089Z",
     "start_time": "2025-08-10T09:53:28.614077Z"
    }
   },
   "cell_type": "code",
   "source": "coordinates1=(11,134,122)",
   "id": "f4cb885a9599f45d",
   "outputs": [],
   "execution_count": 42
  },
  {
   "metadata": {
    "ExecuteTime": {
     "end_time": "2025-08-10T09:53:49.931141Z",
     "start_time": "2025-08-10T09:53:49.926471Z"
    }
   },
   "cell_type": "code",
   "source": "coordinates1",
   "id": "8cbd33c91a7039a5",
   "outputs": [
    {
     "data": {
      "text/plain": [
       "(11, 134, 122)"
      ]
     },
     "execution_count": 44,
     "metadata": {},
     "output_type": "execute_result"
    }
   ],
   "execution_count": 44
  },
  {
   "metadata": {
    "ExecuteTime": {
     "end_time": "2025-08-10T09:53:37.393495Z",
     "start_time": "2025-08-10T09:53:37.388495Z"
    }
   },
   "cell_type": "code",
   "source": "coordinates+coordinates1",
   "id": "71a1af9511c92037",
   "outputs": [
    {
     "data": {
      "text/plain": [
       "(12, 34, 22, 11, 134, 122)"
      ]
     },
     "execution_count": 43,
     "metadata": {},
     "output_type": "execute_result"
    }
   ],
   "execution_count": 43
  },
  {
   "metadata": {
    "ExecuteTime": {
     "end_time": "2025-08-10T09:54:33.154308Z",
     "start_time": "2025-08-10T09:54:33.150799Z"
    }
   },
   "cell_type": "code",
   "source": "new1=(10,20)",
   "id": "5221ba11d5448b60",
   "outputs": [],
   "execution_count": 45
  },
  {
   "metadata": {
    "ExecuteTime": {
     "end_time": "2025-08-10T09:54:50.452883Z",
     "start_time": "2025-08-10T09:54:50.447884Z"
    }
   },
   "cell_type": "code",
   "source": "new1",
   "id": "89d18e46c64cde81",
   "outputs": [
    {
     "data": {
      "text/plain": [
       "(10, 20)"
      ]
     },
     "execution_count": 46,
     "metadata": {},
     "output_type": "execute_result"
    }
   ],
   "execution_count": 46
  },
  {
   "metadata": {
    "ExecuteTime": {
     "end_time": "2025-08-10T09:55:01.102226Z",
     "start_time": "2025-08-10T09:55:01.098709Z"
    }
   },
   "cell_type": "code",
   "source": "new2=(-10,-20)",
   "id": "fc91be65949503b3",
   "outputs": [],
   "execution_count": 47
  },
  {
   "metadata": {
    "ExecuteTime": {
     "end_time": "2025-08-10T09:55:07.428210Z",
     "start_time": "2025-08-10T09:55:07.423251Z"
    }
   },
   "cell_type": "code",
   "source": "new1+new2",
   "id": "50b9e26318501f30",
   "outputs": [
    {
     "data": {
      "text/plain": [
       "(10, 20, -10, -20)"
      ]
     },
     "execution_count": 48,
     "metadata": {},
     "output_type": "execute_result"
    }
   ],
   "execution_count": 48
  },
  {
   "metadata": {
    "ExecuteTime": {
     "end_time": "2025-08-10T09:56:06.682537Z",
     "start_time": "2025-08-10T09:56:06.679076Z"
    }
   },
   "cell_type": "code",
   "source": "school = {\"name\":\"Jay\",\"age\":22,\"gender\":\"male\"}",
   "id": "746b45c246671957",
   "outputs": [],
   "execution_count": 49
  },
  {
   "metadata": {
    "ExecuteTime": {
     "end_time": "2025-08-10T09:56:27.466927Z",
     "start_time": "2025-08-10T09:56:27.463415Z"
    }
   },
   "cell_type": "code",
   "source": "school[\"age\"]=23",
   "id": "ce3513c7ef8b0eeb",
   "outputs": [],
   "execution_count": 51
  },
  {
   "metadata": {
    "ExecuteTime": {
     "end_time": "2025-08-10T09:56:29.855776Z",
     "start_time": "2025-08-10T09:56:29.851452Z"
    }
   },
   "cell_type": "code",
   "source": "school",
   "id": "8e871253658886f8",
   "outputs": [
    {
     "data": {
      "text/plain": [
       "{'name': 'Jay', 'age': 23, 'gender': 'male'}"
      ]
     },
     "execution_count": 52,
     "metadata": {},
     "output_type": "execute_result"
    }
   ],
   "execution_count": 52
  },
  {
   "metadata": {
    "ExecuteTime": {
     "end_time": "2025-08-10T09:57:31.292696Z",
     "start_time": "2025-08-10T09:57:31.288189Z"
    }
   },
   "cell_type": "code",
   "source": "school.pop(\"gender\")",
   "id": "2223aa7dbca06ae2",
   "outputs": [
    {
     "data": {
      "text/plain": [
       "'male'"
      ]
     },
     "execution_count": 54,
     "metadata": {},
     "output_type": "execute_result"
    }
   ],
   "execution_count": 54
  },
  {
   "metadata": {
    "ExecuteTime": {
     "end_time": "2025-08-10T09:57:33.185390Z",
     "start_time": "2025-08-10T09:57:33.180238Z"
    }
   },
   "cell_type": "code",
   "source": "school",
   "id": "7f7aad0bb4f946c3",
   "outputs": [
    {
     "data": {
      "text/plain": [
       "{'name': 'Jay', 'age': 23}"
      ]
     },
     "execution_count": 55,
     "metadata": {},
     "output_type": "execute_result"
    }
   ],
   "execution_count": 55
  },
  {
   "metadata": {},
   "cell_type": "markdown",
   "source": "# Conditionals",
   "id": "c3684f1bc7e3fdfe"
  },
  {
   "metadata": {
    "ExecuteTime": {
     "end_time": "2025-08-10T09:59:08.276870Z",
     "start_time": "2025-08-10T09:59:08.272748Z"
    }
   },
   "cell_type": "code",
   "source": [
    "temp=30\n",
    "\n",
    "if temp > 25:\n",
    "    print(\"its hot outside\")\n",
    "else:\n",
    "    print(\"its cold outside\")"
   ],
   "id": "ad907dfeb9d27f92",
   "outputs": [
    {
     "name": "stdout",
     "output_type": "stream",
     "text": [
      "its hot outside\n"
     ]
    }
   ],
   "execution_count": 57
  },
  {
   "metadata": {
    "ExecuteTime": {
     "end_time": "2025-08-10T10:00:54.480222Z",
     "start_time": "2025-08-10T10:00:54.476193Z"
    }
   },
   "cell_type": "code",
   "source": [
    "if[]:\n",
    "    print(\"This wont print\")\n",
    "else:\n",
    "    print(\"Empty list is considered false\")"
   ],
   "id": "435e5372e7abca27",
   "outputs": [
    {
     "name": "stdout",
     "output_type": "stream",
     "text": [
      "Empty list is considered false\n"
     ]
    }
   ],
   "execution_count": 58
  },
  {
   "metadata": {},
   "cell_type": "markdown",
   "source": "# Loops",
   "id": "877017daa6818254"
  },
  {
   "metadata": {
    "ExecuteTime": {
     "end_time": "2025-08-10T10:02:38.196738Z",
     "start_time": "2025-08-10T10:02:38.192666Z"
    }
   },
   "cell_type": "code",
   "source": [
    "for i in range(1,10,2):\n",
    "    print(i)"
   ],
   "id": "6ed759f51489a6f4",
   "outputs": [
    {
     "name": "stdout",
     "output_type": "stream",
     "text": [
      "1\n",
      "3\n",
      "5\n",
      "7\n",
      "9\n"
     ]
    }
   ],
   "execution_count": 59
  },
  {
   "metadata": {
    "ExecuteTime": {
     "end_time": "2025-08-10T10:03:33.831533Z",
     "start_time": "2025-08-10T10:03:33.826624Z"
    }
   },
   "cell_type": "code",
   "source": [
    "count = 5\n",
    "while count > 0:\n",
    "    print(count)\n",
    "    count = count - 1"
   ],
   "id": "c70fe992c986741b",
   "outputs": [
    {
     "name": "stdout",
     "output_type": "stream",
     "text": [
      "5\n",
      "4\n",
      "3\n",
      "2\n",
      "1\n"
     ]
    }
   ],
   "execution_count": 60
  },
  {
   "metadata": {
    "ExecuteTime": {
     "end_time": "2025-08-10T10:17:49.606449Z",
     "start_time": "2025-08-10T10:17:49.593426Z"
    }
   },
   "cell_type": "code",
   "source": [
    "for num in range(5):\n",
    "    if num == 2:\n",
    "        break\n",
    "    print(num)"
   ],
   "id": "60213906ebc2324c",
   "outputs": [
    {
     "name": "stdout",
     "output_type": "stream",
     "text": [
      "0\n",
      "1\n"
     ]
    }
   ],
   "execution_count": 61
  },
  {
   "metadata": {
    "ExecuteTime": {
     "end_time": "2025-08-10T10:18:11.013782Z",
     "start_time": "2025-08-10T10:18:11.009270Z"
    }
   },
   "cell_type": "code",
   "source": [
    "for num in range(5):\n",
    "    if num == 2:\n",
    "        continue\n",
    "    print(num)"
   ],
   "id": "eeda6de29a338b8b",
   "outputs": [
    {
     "name": "stdout",
     "output_type": "stream",
     "text": [
      "0\n",
      "1\n",
      "3\n",
      "4\n"
     ]
    }
   ],
   "execution_count": 62
  },
  {
   "metadata": {},
   "cell_type": "markdown",
   "source": "# Functions, Methods & Classes",
   "id": "7edbfe25e048ca34"
  },
  {
   "metadata": {
    "ExecuteTime": {
     "end_time": "2025-08-10T10:22:13.165Z",
     "start_time": "2025-08-10T10:22:13.143459Z"
    }
   },
   "cell_type": "code",
   "source": [
    "def celsius_to_farenheit(celsius):\n",
    "    farenheit = celsius * 9 / 5 + 32\n",
    "    return farenheit"
   ],
   "id": "faffaa9d569f0b84",
   "outputs": [],
   "execution_count": 63
  },
  {
   "metadata": {
    "ExecuteTime": {
     "end_time": "2025-08-10T10:23:59.536923Z",
     "start_time": "2025-08-10T10:23:59.524709Z"
    }
   },
   "cell_type": "code",
   "source": "celsius_to_farenheit(37.777777777777777777777777)",
   "id": "efa05721feb76cbd",
   "outputs": [
    {
     "data": {
      "text/plain": [
       "100.0"
      ]
     },
     "execution_count": 88,
     "metadata": {},
     "output_type": "execute_result"
    }
   ],
   "execution_count": 88
  },
  {
   "metadata": {
    "ExecuteTime": {
     "end_time": "2025-08-10T10:27:14.406951Z",
     "start_time": "2025-08-10T10:27:14.398907Z"
    }
   },
   "cell_type": "code",
   "source": "celsius_to_farenheit(37.777777777777777777777777) + celsius_to_farenheit(37.777777777777777777777777)",
   "id": "d64125047e5e726c",
   "outputs": [
    {
     "data": {
      "text/plain": [
       "200.0"
      ]
     },
     "execution_count": 89,
     "metadata": {},
     "output_type": "execute_result"
    }
   ],
   "execution_count": 89
  },
  {
   "metadata": {
    "ExecuteTime": {
     "end_time": "2025-08-10T10:27:39.044352Z",
     "start_time": "2025-08-10T10:27:39.028639Z"
    }
   },
   "cell_type": "code",
   "source": "celsius_to_farenheit(0)",
   "id": "8a09c4382de90f21",
   "outputs": [
    {
     "data": {
      "text/plain": [
       "32.0"
      ]
     },
     "execution_count": 90,
     "metadata": {},
     "output_type": "execute_result"
    }
   ],
   "execution_count": 90
  },
  {
   "metadata": {
    "ExecuteTime": {
     "end_time": "2025-08-10T10:27:56.721106Z",
     "start_time": "2025-08-10T10:27:56.715892Z"
    }
   },
   "cell_type": "code",
   "source": "celsius_to_farenheit(-40)",
   "id": "455f4622c70d2122",
   "outputs": [
    {
     "data": {
      "text/plain": [
       "-40.0"
      ]
     },
     "execution_count": 91,
     "metadata": {},
     "output_type": "execute_result"
    }
   ],
   "execution_count": 91
  },
  {
   "metadata": {
    "ExecuteTime": {
     "end_time": "2025-08-10T10:47:20.243870Z",
     "start_time": "2025-08-10T10:47:20.226372Z"
    }
   },
   "cell_type": "code",
   "source": [
    "def calculate_stats(numbers):\n",
    "    total =  sum(numbers)\n",
    "    average = total / len(numbers)\n",
    "    maximum = max(numbers)\n",
    "    return f\"total = {total}, average = {average}, maximum = {maximum}\""
   ],
   "id": "ee4ddb5faa3e26f9",
   "outputs": [],
   "execution_count": 92
  },
  {
   "metadata": {
    "ExecuteTime": {
     "end_time": "2025-08-10T10:47:28.593330Z",
     "start_time": "2025-08-10T10:47:28.578188Z"
    }
   },
   "cell_type": "code",
   "source": "calculate_stats([10,20,30,40])",
   "id": "5d60ec38d794416f",
   "outputs": [
    {
     "data": {
      "text/plain": [
       "'total = 100, average = 25.0, maximum = 40'"
      ]
     },
     "execution_count": 93,
     "metadata": {},
     "output_type": "execute_result"
    }
   ],
   "execution_count": 93
  },
  {
   "metadata": {},
   "cell_type": "markdown",
   "source": [
    "## 4 special types of functions,\n",
    "\n",
    "1. Lambda functions\n",
    "2. Recursive functions\n",
    "3. Higher Order functions\n",
    "4. Generator functions"
   ],
   "id": "9eb1d5f023ada052"
  },
  {
   "metadata": {},
   "cell_type": "markdown",
   "source": [
    "### Lambda\n",
    "Functions that don't require to be defined via a def method. Helpful like utilities"
   ],
   "id": "f0f1a94d7a69e540"
  },
  {
   "metadata": {
    "ExecuteTime": {
     "end_time": "2025-08-10T10:51:56.183573Z",
     "start_time": "2025-08-10T10:51:56.175316Z"
    }
   },
   "cell_type": "code",
   "source": "square = lambda x: x*x",
   "id": "66eacbf23503cada",
   "outputs": [],
   "execution_count": 94
  },
  {
   "metadata": {
    "ExecuteTime": {
     "end_time": "2025-08-10T10:52:08.051346Z",
     "start_time": "2025-08-10T10:52:08.032677Z"
    }
   },
   "cell_type": "code",
   "source": "square(10)",
   "id": "eda970a0a6ee9915",
   "outputs": [
    {
     "data": {
      "text/plain": [
       "100"
      ]
     },
     "execution_count": 96,
     "metadata": {},
     "output_type": "execute_result"
    }
   ],
   "execution_count": 96
  },
  {
   "metadata": {
    "ExecuteTime": {
     "end_time": "2025-08-10T10:52:09.077418Z",
     "start_time": "2025-08-10T10:52:09.069421Z"
    }
   },
   "cell_type": "code",
   "source": "square(20)",
   "id": "3eed7b7d4d6811ae",
   "outputs": [
    {
     "data": {
      "text/plain": [
       "400"
      ]
     },
     "execution_count": 97,
     "metadata": {},
     "output_type": "execute_result"
    }
   ],
   "execution_count": 97
  },
  {
   "metadata": {},
   "cell_type": "markdown",
   "source": [
    "### Recursive\n",
    "Functions that calls itself"
   ],
   "id": "4fce2b8944f66861"
  },
  {
   "metadata": {
    "ExecuteTime": {
     "end_time": "2025-08-10T10:53:34.536046Z",
     "start_time": "2025-08-10T10:53:34.514446Z"
    }
   },
   "cell_type": "code",
   "source": [
    "def factorial(n):\n",
    "    if n == 0:\n",
    "        return 1\n",
    "    else:\n",
    "        return n * factorial(n-1)"
   ],
   "id": "ca4645df77b36df8",
   "outputs": [],
   "execution_count": 98
  },
  {
   "metadata": {
    "ExecuteTime": {
     "end_time": "2025-08-10T10:53:38.451256Z",
     "start_time": "2025-08-10T10:53:38.446106Z"
    }
   },
   "cell_type": "code",
   "source": "factorial(5)",
   "id": "db7a0d57e6be7d8",
   "outputs": [
    {
     "data": {
      "text/plain": [
       "120"
      ]
     },
     "execution_count": 99,
     "metadata": {},
     "output_type": "execute_result"
    }
   ],
   "execution_count": 99
  },
  {
   "metadata": {},
   "cell_type": "markdown",
   "source": [
    "### Higher Order\n",
    "Sometimes functions can take other functions as arguments and also return functions\n",
    "In Pytorch, Tensorflow this is used for applying activation function, data augumentation, optimizations"
   ],
   "id": "2313a09d8a13b986"
  },
  {
   "metadata": {
    "ExecuteTime": {
     "end_time": "2025-08-10T10:57:08.789532Z",
     "start_time": "2025-08-10T10:57:08.781168Z"
    }
   },
   "cell_type": "code",
   "source": [
    "def apply_twice(func, value):\n",
    "    return func(func(value))\n",
    "\n",
    "def add_five(x):\n",
    "    return x+5\n",
    "\n",
    "def sub_five(x):\n",
    "    return x-5"
   ],
   "id": "a4215cd66d4cbf14",
   "outputs": [],
   "execution_count": 100
  },
  {
   "metadata": {
    "ExecuteTime": {
     "end_time": "2025-08-10T10:57:19.461801Z",
     "start_time": "2025-08-10T10:57:19.455799Z"
    }
   },
   "cell_type": "code",
   "source": "apply_twice(add_five, 10)",
   "id": "330aaafd31aa10df",
   "outputs": [
    {
     "data": {
      "text/plain": [
       "20"
      ]
     },
     "execution_count": 101,
     "metadata": {},
     "output_type": "execute_result"
    }
   ],
   "execution_count": 101
  },
  {
   "metadata": {},
   "cell_type": "markdown",
   "source": [
    "### Generator\n",
    "yield keyword processes one value at a time, helps in optimizing memory utilization"
   ],
   "id": "fba1c27fae0db35b"
  },
  {
   "metadata": {
    "ExecuteTime": {
     "end_time": "2025-08-10T11:01:48.412605Z",
     "start_time": "2025-08-10T11:01:48.407606Z"
    }
   },
   "cell_type": "code",
   "source": [
    "def fibonacci_generator():\n",
    "    a,b = 0,1\n",
    "    while True:\n",
    "        yield a\n",
    "        a, b = b, a+b"
   ],
   "id": "7c293d01c0e8dc25",
   "outputs": [],
   "execution_count": 102
  },
  {
   "metadata": {
    "ExecuteTime": {
     "end_time": "2025-08-10T11:05:26.382065Z",
     "start_time": "2025-08-10T11:05:26.376062Z"
    }
   },
   "cell_type": "code",
   "source": [
    "fib = fibonacci_generator()\n",
    "for _ in range(10):\n",
    "    print(next(fib))"
   ],
   "id": "595ad3fada7f76b2",
   "outputs": [
    {
     "name": "stdout",
     "output_type": "stream",
     "text": [
      "0\n",
      "1\n",
      "1\n",
      "2\n",
      "3\n",
      "5\n",
      "8\n",
      "13\n",
      "21\n",
      "34\n"
     ]
    }
   ],
   "execution_count": 104
  },
  {
   "metadata": {},
   "cell_type": "markdown",
   "source": "## Classes",
   "id": "1ca8e4e0cd5d461a"
  },
  {
   "metadata": {
    "ExecuteTime": {
     "end_time": "2025-08-10T11:07:05.700546Z",
     "start_time": "2025-08-10T11:07:05.689288Z"
    }
   },
   "cell_type": "code",
   "source": [
    "class Adder:\n",
    "    def __init__(self):\n",
    "        pass\n",
    "    def add(self, a, b):\n",
    "        return a+b"
   ],
   "id": "1a8611d416aa6c10",
   "outputs": [],
   "execution_count": 105
  },
  {
   "metadata": {
    "ExecuteTime": {
     "end_time": "2025-08-10T11:07:21.976940Z",
     "start_time": "2025-08-10T11:07:21.966950Z"
    }
   },
   "cell_type": "code",
   "source": "my_adder = Adder()",
   "id": "d5dd36722af22c42",
   "outputs": [],
   "execution_count": 107
  },
  {
   "metadata": {
    "ExecuteTime": {
     "end_time": "2025-08-10T11:07:30.868304Z",
     "start_time": "2025-08-10T11:07:30.854791Z"
    }
   },
   "cell_type": "code",
   "source": "my_adder.add(2,5)",
   "id": "560f019959f213a9",
   "outputs": [
    {
     "data": {
      "text/plain": [
       "7"
      ]
     },
     "execution_count": 108,
     "metadata": {},
     "output_type": "execute_result"
    }
   ],
   "execution_count": 108
  },
  {
   "metadata": {
    "ExecuteTime": {
     "end_time": "2025-08-10T11:09:40.742298Z",
     "start_time": "2025-08-10T11:09:40.737299Z"
    }
   },
   "cell_type": "code",
   "source": [
    "class Adder:\n",
    "    def __init__(self):\n",
    "        self.last_result = None\n",
    "\n",
    "    def add(self,a,b):\n",
    "        result = a+b\n",
    "        self.last_result = result\n",
    "        return result\n",
    "\n",
    "    def get_last_result(self):\n",
    "        return self.last_result"
   ],
   "id": "533c5baf227563b",
   "outputs": [],
   "execution_count": 110
  },
  {
   "metadata": {
    "ExecuteTime": {
     "end_time": "2025-08-10T11:10:17.774822Z",
     "start_time": "2025-08-10T11:10:17.765287Z"
    }
   },
   "cell_type": "code",
   "source": "my_Adder = Adder()",
   "id": "ab846b800e552c8e",
   "outputs": [],
   "execution_count": 111
  },
  {
   "metadata": {
    "ExecuteTime": {
     "end_time": "2025-08-10T11:11:05.882069Z",
     "start_time": "2025-08-10T11:11:05.867351Z"
    }
   },
   "cell_type": "code",
   "source": "my_Adder.add(2,6)",
   "id": "6d663405bd94a0e9",
   "outputs": [
    {
     "data": {
      "text/plain": [
       "8"
      ]
     },
     "execution_count": 115,
     "metadata": {},
     "output_type": "execute_result"
    }
   ],
   "execution_count": 115
  },
  {
   "metadata": {
    "ExecuteTime": {
     "end_time": "2025-08-10T11:11:13.717773Z",
     "start_time": "2025-08-10T11:11:13.712543Z"
    }
   },
   "cell_type": "code",
   "source": "my_Adder.get_last_result()",
   "id": "eb04fea0c12309db",
   "outputs": [
    {
     "data": {
      "text/plain": [
       "8"
      ]
     },
     "execution_count": 116,
     "metadata": {},
     "output_type": "execute_result"
    }
   ],
   "execution_count": 116
  },
  {
   "metadata": {
    "ExecuteTime": {
     "end_time": "2025-08-10T11:11:54.349348Z",
     "start_time": "2025-08-10T11:11:54.345257Z"
    }
   },
   "cell_type": "code",
   "source": "another_adder = Adder()",
   "id": "30ea80c7a312caa8",
   "outputs": [],
   "execution_count": 118
  },
  {
   "metadata": {
    "ExecuteTime": {
     "end_time": "2025-08-10T11:12:05.969753Z",
     "start_time": "2025-08-10T11:12:05.963306Z"
    }
   },
   "cell_type": "code",
   "source": "another_adder.add(1,9)",
   "id": "24888a61bc5be1a2",
   "outputs": [
    {
     "data": {
      "text/plain": [
       "10"
      ]
     },
     "execution_count": 119,
     "metadata": {},
     "output_type": "execute_result"
    }
   ],
   "execution_count": 119
  },
  {
   "metadata": {
    "ExecuteTime": {
     "end_time": "2025-08-10T11:12:20.245724Z",
     "start_time": "2025-08-10T11:12:20.238721Z"
    }
   },
   "cell_type": "code",
   "source": "my_Adder.get_last_result()",
   "id": "b54448f7bddcbe0",
   "outputs": [
    {
     "data": {
      "text/plain": [
       "8"
      ]
     },
     "execution_count": 120,
     "metadata": {},
     "output_type": "execute_result"
    }
   ],
   "execution_count": 120
  },
  {
   "metadata": {
    "ExecuteTime": {
     "end_time": "2025-08-10T11:12:49.394658Z",
     "start_time": "2025-08-10T11:12:49.387652Z"
    }
   },
   "cell_type": "code",
   "source": "another_adder.get_last_result()",
   "id": "eb6dc1f3a2103020",
   "outputs": [
    {
     "data": {
      "text/plain": [
       "10"
      ]
     },
     "execution_count": 121,
     "metadata": {},
     "output_type": "execute_result"
    }
   ],
   "execution_count": 121
  },
  {
   "metadata": {},
   "cell_type": "markdown",
   "source": [
    "## OOP Concepts\n",
    "### Encapsulation\n",
    "### Inheritance\n",
    "### Abstraction\n",
    "### Polymorphism"
   ],
   "id": "cf257a9e95eadef3"
  },
  {
   "metadata": {},
   "cell_type": "markdown",
   "source": [
    "#### Encapsulation\n",
    "Keeping an object's internal data private and exposing only necessary parts through methods\n",
    "\n",
    "- another_adder.get_last_result()"
   ],
   "id": "d020656584a94009"
  },
  {
   "metadata": {},
   "cell_type": "markdown",
   "source": [
    "### Abstraction\n",
    "Hiding unnecessary details behind simple interfaces\n",
    "- my_adder.add(1,9)"
   ],
   "id": "4791b67aaba20ffb"
  },
  {
   "metadata": {},
   "cell_type": "markdown",
   "source": [
    "### Inheritance\n",
    "Allows to reuse and extender another class's behavior"
   ],
   "id": "31b334bd2e08a8f9"
  },
  {
   "metadata": {
    "ExecuteTime": {
     "end_time": "2025-08-10T11:20:20.444034Z",
     "start_time": "2025-08-10T11:20:20.433510Z"
    }
   },
   "cell_type": "code",
   "source": [
    "class FancyAdder(Adder):\n",
    "    def multiply(self, a,b):\n",
    "        return a*b"
   ],
   "id": "73119f707acc2509",
   "outputs": [],
   "execution_count": 122
  },
  {
   "metadata": {
    "ExecuteTime": {
     "end_time": "2025-08-10T11:20:54.780209Z",
     "start_time": "2025-08-10T11:20:54.767193Z"
    }
   },
   "cell_type": "code",
   "source": [
    "my_new_adder = FancyAdder()\n",
    "my_new_adder.multiply(3,5)"
   ],
   "id": "b9fbcf01ba911b62",
   "outputs": [
    {
     "data": {
      "text/plain": [
       "15"
      ]
     },
     "execution_count": 123,
     "metadata": {},
     "output_type": "execute_result"
    }
   ],
   "execution_count": 123
  },
  {
   "metadata": {
    "ExecuteTime": {
     "end_time": "2025-08-10T11:21:06.717635Z",
     "start_time": "2025-08-10T11:21:06.710202Z"
    }
   },
   "cell_type": "code",
   "source": "my_new_adder.add(3,5)",
   "id": "172ee0473dac3bd8",
   "outputs": [
    {
     "data": {
      "text/plain": [
       "8"
      ]
     },
     "execution_count": 124,
     "metadata": {},
     "output_type": "execute_result"
    }
   ],
   "execution_count": 124
  },
  {
   "metadata": {},
   "cell_type": "markdown",
   "source": [
    "### Polymorphism\n",
    "Different classes have same method names but behave differently"
   ],
   "id": "3106b876828e39ff"
  },
  {
   "metadata": {
    "ExecuteTime": {
     "end_time": "2025-08-10T11:24:27.568956Z",
     "start_time": "2025-08-10T11:24:27.558048Z"
    }
   },
   "cell_type": "code",
   "source": [
    "class Animal:\n",
    "    def speak(self):\n",
    "        pass\n",
    "\n",
    "class Dog(Animal):\n",
    "    def speak(self):\n",
    "        return \"Woof!\"\n",
    "\n",
    "class Cat(Animal):\n",
    "    def speak(self):\n",
    "        return \"Meow!\"\n",
    "\n",
    "class Cow(Animal):\n",
    "    def speak(self):\n",
    "        return \"Moo!\""
   ],
   "id": "de4fc8ebf97ac05c",
   "outputs": [],
   "execution_count": 126
  },
  {
   "metadata": {
    "ExecuteTime": {
     "end_time": "2025-08-10T11:24:47.135898Z",
     "start_time": "2025-08-10T11:24:47.122883Z"
    }
   },
   "cell_type": "code",
   "source": "Dog().speak()",
   "id": "f0c619b4566862ad",
   "outputs": [
    {
     "data": {
      "text/plain": [
       "'Woof!'"
      ]
     },
     "execution_count": 127,
     "metadata": {},
     "output_type": "execute_result"
    }
   ],
   "execution_count": 127
  },
  {
   "metadata": {
    "ExecuteTime": {
     "end_time": "2025-08-10T11:24:53.734922Z",
     "start_time": "2025-08-10T11:24:53.727924Z"
    }
   },
   "cell_type": "code",
   "source": "Cat().speak()",
   "id": "cddad29de740c380",
   "outputs": [
    {
     "data": {
      "text/plain": [
       "'Meow!'"
      ]
     },
     "execution_count": 128,
     "metadata": {},
     "output_type": "execute_result"
    }
   ],
   "execution_count": 128
  },
  {
   "metadata": {},
   "cell_type": "code",
   "outputs": [],
   "execution_count": null,
   "source": "",
   "id": "20d274b4c1f911bf"
  }
 ],
 "metadata": {
  "kernelspec": {
   "display_name": "Python 3 (ipykernel)",
   "language": "python",
   "name": "python3"
  },
  "language_info": {
   "codemirror_mode": {
    "name": "ipython",
    "version": 3
   },
   "file_extension": ".py",
   "mimetype": "text/x-python",
   "name": "python",
   "nbconvert_exporter": "python",
   "pygments_lexer": "ipython3",
   "version": "3.12.6"
  }
 },
 "nbformat": 4,
 "nbformat_minor": 5
}
