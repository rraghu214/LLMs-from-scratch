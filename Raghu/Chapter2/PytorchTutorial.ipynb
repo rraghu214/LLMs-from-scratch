{
 "cells": [
  {
   "metadata": {
    "collapsed": true
   },
   "cell_type": "markdown",
   "source": "",
   "id": "15fe535894a24e5e"
  },
  {
   "metadata": {},
   "cell_type": "markdown",
   "source": "# Pytorch",
   "id": "d9813df25b8df14a"
  },
  {
   "metadata": {},
   "cell_type": "markdown",
   "source": "## Creating vectors as pytorch tensors",
   "id": "fa8150fe69c3198d"
  },
  {
   "metadata": {},
   "cell_type": "markdown",
   "source": "### A tensor is a generalization of vectors and matrices to potentially n number of dimensions",
   "id": "a8be37fb2056bd74"
  },
  {
   "metadata": {
    "ExecuteTime": {
     "end_time": "2025-08-10T17:56:46.035422Z",
     "start_time": "2025-08-10T17:56:40.598671Z"
    }
   },
   "cell_type": "code",
   "source": "import torch",
   "id": "872f74c2d6a01117",
   "outputs": [],
   "execution_count": 1
  },
  {
   "metadata": {
    "ExecuteTime": {
     "end_time": "2025-08-10T17:56:46.058159Z",
     "start_time": "2025-08-10T17:56:46.041035Z"
    }
   },
   "cell_type": "code",
   "source": "vec = torch.tensor([1.0,2.,3.0]) # 3D Vector",
   "id": "d9748719760945a7",
   "outputs": [],
   "execution_count": 2
  },
  {
   "metadata": {
    "ExecuteTime": {
     "end_time": "2025-08-10T17:56:46.072175Z",
     "start_time": "2025-08-10T17:56:46.065173Z"
    }
   },
   "cell_type": "code",
   "source": "type(vec)",
   "id": "907b275dc7e1743",
   "outputs": [
    {
     "data": {
      "text/plain": [
       "torch.Tensor"
      ]
     },
     "execution_count": 3,
     "metadata": {},
     "output_type": "execute_result"
    }
   ],
   "execution_count": 3
  },
  {
   "metadata": {},
   "cell_type": "markdown",
   "source": "### Shape and indexing",
   "id": "6e2a4cce0ae7c30d"
  },
  {
   "metadata": {
    "ExecuteTime": {
     "end_time": "2025-08-10T17:56:46.158988Z",
     "start_time": "2025-08-10T17:56:46.085696Z"
    }
   },
   "cell_type": "code",
   "source": [
    "print(vec.shape) # torch.size([3])\n",
    "print(vec[0]) # tensor(1.)\n",
    "print(vec[-1]) # tensor(3.)\n",
    "print(vec[1:]) # tensor(2.,3.)"
   ],
   "id": "52c94f86cb8dff78",
   "outputs": [
    {
     "name": "stdout",
     "output_type": "stream",
     "text": [
      "torch.Size([3])\n",
      "tensor(1.)\n",
      "tensor(3.)\n",
      "tensor([2., 3.])\n"
     ]
    }
   ],
   "execution_count": 4
  },
  {
   "metadata": {},
   "cell_type": "markdown",
   "source": "### Vectorised Operations",
   "id": "c908b09ee1fa28fc"
  },
  {
   "metadata": {
    "ExecuteTime": {
     "end_time": "2025-08-10T17:56:46.177996Z",
     "start_time": "2025-08-10T17:56:46.165999Z"
    }
   },
   "cell_type": "code",
   "source": [
    "other = torch.tensor([4.0,5.0,6.0])\n",
    "\n",
    "print(vec+other) # tensor([5.,7.,9.])\n",
    "print(vec * 2) # tensor([2.,6.,8.])\n",
    "print(vec ** 2) # tensor([1.,4.,9.])"
   ],
   "id": "a3c3b99d036311a4",
   "outputs": [
    {
     "name": "stdout",
     "output_type": "stream",
     "text": [
      "tensor([5., 7., 9.])\n",
      "tensor([2., 4., 6.])\n",
      "tensor([1., 4., 9.])\n"
     ]
    }
   ],
   "execution_count": 5
  },
  {
   "metadata": {},
   "cell_type": "markdown",
   "source": "### Aggregations",
   "id": "c3d4c1efeaa76b9e"
  },
  {
   "metadata": {
    "ExecuteTime": {
     "end_time": "2025-08-10T17:56:46.214804Z",
     "start_time": "2025-08-10T17:56:46.205531Z"
    }
   },
   "cell_type": "code",
   "source": [
    "print(vec.sum())\n",
    "print(vec.mean())\n",
    "print(vec.std())"
   ],
   "id": "3dbd98389fe0fadf",
   "outputs": [
    {
     "name": "stdout",
     "output_type": "stream",
     "text": [
      "tensor(6.)\n",
      "tensor(2.)\n",
      "tensor(1.)\n"
     ]
    }
   ],
   "execution_count": 6
  },
  {
   "metadata": {},
   "cell_type": "markdown",
   "source": "### Quick Creations",
   "id": "88a1086524e035cb"
  },
  {
   "metadata": {
    "ExecuteTime": {
     "end_time": "2025-08-10T17:56:46.260494Z",
     "start_time": "2025-08-10T17:56:46.254495Z"
    }
   },
   "cell_type": "code",
   "source": "torch.zeros(3)",
   "id": "358a663c6e7268b1",
   "outputs": [
    {
     "data": {
      "text/plain": [
       "tensor([0., 0., 0.])"
      ]
     },
     "execution_count": 7,
     "metadata": {},
     "output_type": "execute_result"
    }
   ],
   "execution_count": 7
  },
  {
   "metadata": {
    "ExecuteTime": {
     "end_time": "2025-08-10T17:56:46.291384Z",
     "start_time": "2025-08-10T17:56:46.285369Z"
    }
   },
   "cell_type": "code",
   "source": "torch.ones(3)",
   "id": "e569c4acedd6d95e",
   "outputs": [
    {
     "data": {
      "text/plain": [
       "tensor([1., 1., 1.])"
      ]
     },
     "execution_count": 8,
     "metadata": {},
     "output_type": "execute_result"
    }
   ],
   "execution_count": 8
  },
  {
   "metadata": {
    "ExecuteTime": {
     "end_time": "2025-08-10T17:56:46.314736Z",
     "start_time": "2025-08-10T17:56:46.306787Z"
    }
   },
   "cell_type": "code",
   "source": "torch.arange(0,5)",
   "id": "d6140e6df58602a3",
   "outputs": [
    {
     "data": {
      "text/plain": [
       "tensor([0, 1, 2, 3, 4])"
      ]
     },
     "execution_count": 9,
     "metadata": {},
     "output_type": "execute_result"
    }
   ],
   "execution_count": 9
  },
  {
   "metadata": {
    "ExecuteTime": {
     "end_time": "2025-08-10T17:56:46.335945Z",
     "start_time": "2025-08-10T17:56:46.326378Z"
    }
   },
   "cell_type": "code",
   "source": "torch.linspace(0,1,5)",
   "id": "7445aedc2dc16cfb",
   "outputs": [
    {
     "data": {
      "text/plain": [
       "tensor([0.0000, 0.2500, 0.5000, 0.7500, 1.0000])"
      ]
     },
     "execution_count": 10,
     "metadata": {},
     "output_type": "execute_result"
    }
   ],
   "execution_count": 10
  },
  {
   "metadata": {
    "ExecuteTime": {
     "end_time": "2025-08-10T17:56:46.362239Z",
     "start_time": "2025-08-10T17:56:46.351218Z"
    }
   },
   "cell_type": "code",
   "source": "torch.rand(3)",
   "id": "b0078ac6c80ebc3b",
   "outputs": [
    {
     "data": {
      "text/plain": [
       "tensor([0.9327, 0.0175, 0.9239])"
      ]
     },
     "execution_count": 11,
     "metadata": {},
     "output_type": "execute_result"
    }
   ],
   "execution_count": 11
  },
  {
   "metadata": {},
   "cell_type": "markdown",
   "source": "### Whether you are using numpy or pytorch, creating a vector is just about bundling multiple numbers together into one object",
   "id": "13349e850df6ce52"
  },
  {
   "metadata": {
    "ExecuteTime": {
     "end_time": "2025-08-10T17:57:11.917583Z",
     "start_time": "2025-08-10T17:57:11.907566Z"
    }
   },
   "cell_type": "code",
   "source": "scalar = torch.tensor(7.0) # Tensor with 0 dimensions",
   "id": "8f194bcf0bbe9b4b",
   "outputs": [],
   "execution_count": 14
  },
  {
   "metadata": {
    "ExecuteTime": {
     "end_time": "2025-08-10T17:57:12.815762Z",
     "start_time": "2025-08-10T17:57:12.798749Z"
    }
   },
   "cell_type": "code",
   "source": "scalar",
   "id": "a12cd57a09ca1eb7",
   "outputs": [
    {
     "data": {
      "text/plain": [
       "tensor(7.)"
      ]
     },
     "execution_count": 15,
     "metadata": {},
     "output_type": "execute_result"
    }
   ],
   "execution_count": 15
  },
  {
   "metadata": {
    "ExecuteTime": {
     "end_time": "2025-08-10T17:58:09.736253Z",
     "start_time": "2025-08-10T17:58:09.719303Z"
    }
   },
   "cell_type": "code",
   "source": [
    "vector = torch.tensor([1.0,2.0,3.0]) # Passing a list creates a tensor of one dimensional vector\n",
    "vector"
   ],
   "id": "132f244f058b4ecf",
   "outputs": [
    {
     "data": {
      "text/plain": [
       "tensor([1., 2., 3.])"
      ]
     },
     "execution_count": 17,
     "metadata": {},
     "output_type": "execute_result"
    }
   ],
   "execution_count": 17
  },
  {
   "metadata": {
    "ExecuteTime": {
     "end_time": "2025-08-10T17:58:50.739940Z",
     "start_time": "2025-08-10T17:58:50.728939Z"
    }
   },
   "cell_type": "code",
   "source": [
    "## A matrix is a list of lists.\n",
    "\n",
    "matrix = torch.tensor([[1,2],[3,4]])"
   ],
   "id": "bdc7c9a06e946b2f",
   "outputs": [],
   "execution_count": 18
  },
  {
   "metadata": {
    "ExecuteTime": {
     "end_time": "2025-08-10T17:59:31.861848Z",
     "start_time": "2025-08-10T17:59:31.849623Z"
    }
   },
   "cell_type": "code",
   "source": "print(matrix)",
   "id": "4bd65b0a663ad6fe",
   "outputs": [
    {
     "name": "stdout",
     "output_type": "stream",
     "text": [
      "tensor([[1, 2],\n",
      "        [3, 4]])\n"
     ]
    }
   ],
   "execution_count": 21
  },
  {
   "metadata": {
    "ExecuteTime": {
     "end_time": "2025-08-10T18:02:52.009970Z",
     "start_time": "2025-08-10T18:02:51.998410Z"
    }
   },
   "cell_type": "code",
   "source": [
    "tensor3d = torch.tensor([\n",
    "    [[1,2],[3,4]],\n",
    "    [[5,6],[7,8]]\n",
    "\n",
    "],\n",
    "dtype=torch.float32)"
   ],
   "id": "b458755c5fbd86c3",
   "outputs": [],
   "execution_count": 26
  },
  {
   "metadata": {
    "ExecuteTime": {
     "end_time": "2025-08-10T18:02:52.781213Z",
     "start_time": "2025-08-10T18:02:52.764287Z"
    }
   },
   "cell_type": "code",
   "source": "tensor3d",
   "id": "89637ecd68794e46",
   "outputs": [
    {
     "data": {
      "text/plain": [
       "tensor([[[1., 2.],\n",
       "         [3., 4.]],\n",
       "\n",
       "        [[5., 6.],\n",
       "         [7., 8.]]])"
      ]
     },
     "execution_count": 27,
     "metadata": {},
     "output_type": "execute_result"
    }
   ],
   "execution_count": 27
  },
  {
   "metadata": {},
   "cell_type": "markdown",
   "source": "#### The level of nesting determines the rank of the tensor",
   "id": "749bad341e52b8a7"
  },
  {
   "metadata": {
    "ExecuteTime": {
     "end_time": "2025-08-10T18:01:59.231946Z",
     "start_time": "2025-08-10T18:01:59.226805Z"
    }
   },
   "cell_type": "code",
   "source": "matrix.dtype",
   "id": "c22381ff1af92c87",
   "outputs": [
    {
     "data": {
      "text/plain": [
       "torch.int64"
      ]
     },
     "execution_count": 24,
     "metadata": {},
     "output_type": "execute_result"
    }
   ],
   "execution_count": 24
  },
  {
   "metadata": {
    "ExecuteTime": {
     "end_time": "2025-08-10T18:02:05.985933Z",
     "start_time": "2025-08-10T18:02:05.979933Z"
    }
   },
   "cell_type": "code",
   "source": "vector.dtype",
   "id": "34fef322d7b2361f",
   "outputs": [
    {
     "data": {
      "text/plain": [
       "torch.float32"
      ]
     },
     "execution_count": 25,
     "metadata": {},
     "output_type": "execute_result"
    }
   ],
   "execution_count": 25
  },
  {
   "metadata": {
    "ExecuteTime": {
     "end_time": "2025-08-10T18:03:02.958223Z",
     "start_time": "2025-08-10T18:03:02.944143Z"
    }
   },
   "cell_type": "code",
   "source": "tensor3d.dtype",
   "id": "7a4e23c7820af44e",
   "outputs": [
    {
     "data": {
      "text/plain": [
       "torch.float32"
      ]
     },
     "execution_count": 28,
     "metadata": {},
     "output_type": "execute_result"
    }
   ],
   "execution_count": 28
  },
  {
   "metadata": {
    "ExecuteTime": {
     "end_time": "2025-08-10T18:13:41.898861Z",
     "start_time": "2025-08-10T18:13:41.886880Z"
    }
   },
   "cell_type": "code",
   "source": "print(torch.zeros(4,2))",
   "id": "4bcb83512ad0efe8",
   "outputs": [
    {
     "name": "stdout",
     "output_type": "stream",
     "text": [
      "tensor([[0., 0.],\n",
      "        [0., 0.],\n",
      "        [0., 0.],\n",
      "        [0., 0.]])\n"
     ]
    }
   ],
   "execution_count": 30
  },
  {
   "metadata": {
    "ExecuteTime": {
     "end_time": "2025-08-10T18:13:55.913186Z",
     "start_time": "2025-08-10T18:13:55.906187Z"
    }
   },
   "cell_type": "code",
   "source": "print(torch.zeros(4,2,3))",
   "id": "f07d9ccd7e815e5f",
   "outputs": [
    {
     "name": "stdout",
     "output_type": "stream",
     "text": [
      "tensor([[[0., 0., 0.],\n",
      "         [0., 0., 0.]],\n",
      "\n",
      "        [[0., 0., 0.],\n",
      "         [0., 0., 0.]],\n",
      "\n",
      "        [[0., 0., 0.],\n",
      "         [0., 0., 0.]],\n",
      "\n",
      "        [[0., 0., 0.],\n",
      "         [0., 0., 0.]]])\n"
     ]
    }
   ],
   "execution_count": 31
  },
  {
   "metadata": {
    "ExecuteTime": {
     "end_time": "2025-08-10T18:15:35.145924Z",
     "start_time": "2025-08-10T18:15:35.139667Z"
    }
   },
   "cell_type": "code",
   "source": "print(torch.zeros(5,2,3,4))",
   "id": "12ca06e6cd6a79e4",
   "outputs": [
    {
     "name": "stdout",
     "output_type": "stream",
     "text": [
      "tensor([[[[0., 0., 0., 0.],\n",
      "          [0., 0., 0., 0.],\n",
      "          [0., 0., 0., 0.]],\n",
      "\n",
      "         [[0., 0., 0., 0.],\n",
      "          [0., 0., 0., 0.],\n",
      "          [0., 0., 0., 0.]]],\n",
      "\n",
      "\n",
      "        [[[0., 0., 0., 0.],\n",
      "          [0., 0., 0., 0.],\n",
      "          [0., 0., 0., 0.]],\n",
      "\n",
      "         [[0., 0., 0., 0.],\n",
      "          [0., 0., 0., 0.],\n",
      "          [0., 0., 0., 0.]]],\n",
      "\n",
      "\n",
      "        [[[0., 0., 0., 0.],\n",
      "          [0., 0., 0., 0.],\n",
      "          [0., 0., 0., 0.]],\n",
      "\n",
      "         [[0., 0., 0., 0.],\n",
      "          [0., 0., 0., 0.],\n",
      "          [0., 0., 0., 0.]]],\n",
      "\n",
      "\n",
      "        [[[0., 0., 0., 0.],\n",
      "          [0., 0., 0., 0.],\n",
      "          [0., 0., 0., 0.]],\n",
      "\n",
      "         [[0., 0., 0., 0.],\n",
      "          [0., 0., 0., 0.],\n",
      "          [0., 0., 0., 0.]]],\n",
      "\n",
      "\n",
      "        [[[0., 0., 0., 0.],\n",
      "          [0., 0., 0., 0.],\n",
      "          [0., 0., 0., 0.]],\n",
      "\n",
      "         [[0., 0., 0., 0.],\n",
      "          [0., 0., 0., 0.],\n",
      "          [0., 0., 0., 0.]]]])\n"
     ]
    }
   ],
   "execution_count": 39
  },
  {
   "metadata": {
    "ExecuteTime": {
     "end_time": "2025-08-10T18:16:17.233246Z",
     "start_time": "2025-08-10T18:16:17.220850Z"
    }
   },
   "cell_type": "code",
   "source": "print(torch.ones(2,3))",
   "id": "a35fd89308576a8d",
   "outputs": [
    {
     "name": "stdout",
     "output_type": "stream",
     "text": [
      "tensor([[1., 1., 1.],\n",
      "        [1., 1., 1.]])\n"
     ]
    }
   ],
   "execution_count": 42
  },
  {
   "metadata": {
    "ExecuteTime": {
     "end_time": "2025-08-10T18:20:28.696223Z",
     "start_time": "2025-08-10T18:20:28.681826Z"
    }
   },
   "cell_type": "code",
   "source": "print(torch.full((5,5),7))",
   "id": "153099d93015db4f",
   "outputs": [
    {
     "name": "stdout",
     "output_type": "stream",
     "text": [
      "tensor([[7, 7, 7, 7, 7],\n",
      "        [7, 7, 7, 7, 7],\n",
      "        [7, 7, 7, 7, 7],\n",
      "        [7, 7, 7, 7, 7],\n",
      "        [7, 7, 7, 7, 7]])\n"
     ]
    }
   ],
   "execution_count": 45
  },
  {
   "metadata": {
    "ExecuteTime": {
     "end_time": "2025-08-10T18:20:59.492769Z",
     "start_time": "2025-08-10T18:20:59.487495Z"
    }
   },
   "cell_type": "code",
   "source": "print(torch.eye(3) * 9)",
   "id": "30c6299c7b4f0fe8",
   "outputs": [
    {
     "name": "stdout",
     "output_type": "stream",
     "text": [
      "tensor([[9., 0., 0.],\n",
      "        [0., 9., 0.],\n",
      "        [0., 0., 9.]])\n"
     ]
    }
   ],
   "execution_count": 48
  },
  {
   "metadata": {
    "ExecuteTime": {
     "end_time": "2025-08-10T18:21:41.226337Z",
     "start_time": "2025-08-10T18:21:41.219159Z"
    }
   },
   "cell_type": "code",
   "source": "print(torch.rand(3,2))",
   "id": "b6391b2954700807",
   "outputs": [
    {
     "name": "stdout",
     "output_type": "stream",
     "text": [
      "tensor([[0.7541, 0.7270],\n",
      "        [0.5087, 0.6257],\n",
      "        [0.5586, 0.3681]])\n"
     ]
    }
   ],
   "execution_count": 50
  },
  {
   "metadata": {
    "ExecuteTime": {
     "end_time": "2025-08-10T18:22:17.646053Z",
     "start_time": "2025-08-10T18:22:17.631115Z"
    }
   },
   "cell_type": "code",
   "source": "print(torch.randn(3,2)) # randn picks up the value from a normal distribution",
   "id": "6fc86eea03e69aa0",
   "outputs": [
    {
     "name": "stdout",
     "output_type": "stream",
     "text": [
      "tensor([[ 0.3559, -0.7556],\n",
      "        [ 0.1583,  0.2582],\n",
      "        [ 1.3856,  1.5155]])\n"
     ]
    }
   ],
   "execution_count": 52
  },
  {
   "metadata": {
    "ExecuteTime": {
     "end_time": "2025-08-10T18:23:29.805835Z",
     "start_time": "2025-08-10T18:23:29.794465Z"
    }
   },
   "cell_type": "code",
   "source": "val = torch.randn(3,2)",
   "id": "4fcac004ddabce1e",
   "outputs": [],
   "execution_count": 54
  },
  {
   "metadata": {
    "ExecuteTime": {
     "end_time": "2025-08-10T18:23:38.888825Z",
     "start_time": "2025-08-10T18:23:38.877383Z"
    }
   },
   "cell_type": "code",
   "source": "print(val)",
   "id": "3a7af82dcd8b3042",
   "outputs": [
    {
     "name": "stdout",
     "output_type": "stream",
     "text": [
      "tensor([[ 0.5341, -0.5011],\n",
      "        [ 1.7123,  1.1546],\n",
      "        [ 0.9367,  0.4066]])\n"
     ]
    }
   ],
   "execution_count": 56
  },
  {
   "metadata": {
    "ExecuteTime": {
     "end_time": "2025-08-10T18:23:44.156408Z",
     "start_time": "2025-08-10T18:23:44.145046Z"
    }
   },
   "cell_type": "code",
   "source": "sum(val)",
   "id": "d798fe2e5bd9d95d",
   "outputs": [
    {
     "data": {
      "text/plain": [
       "tensor([3.1831, 1.0601])"
      ]
     },
     "execution_count": 57,
     "metadata": {},
     "output_type": "execute_result"
    }
   ],
   "execution_count": 57
  },
  {
   "metadata": {
    "ExecuteTime": {
     "end_time": "2025-08-10T18:24:27.610862Z",
     "start_time": "2025-08-10T18:24:27.601323Z"
    }
   },
   "cell_type": "code",
   "source": "t = torch.randn(3,4)",
   "id": "d7fcc7cbbd84cf31",
   "outputs": [],
   "execution_count": 58
  },
  {
   "metadata": {
    "ExecuteTime": {
     "end_time": "2025-08-10T18:24:32.965034Z",
     "start_time": "2025-08-10T18:24:32.959600Z"
    }
   },
   "cell_type": "code",
   "source": "t.shape # .shape tells us the size of the tensor in each dimension.",
   "id": "84d04d26f00a6461",
   "outputs": [
    {
     "data": {
      "text/plain": [
       "torch.Size([3, 4])"
      ]
     },
     "execution_count": 59,
     "metadata": {},
     "output_type": "execute_result"
    }
   ],
   "execution_count": 59
  },
  {
   "metadata": {
    "ExecuteTime": {
     "end_time": "2025-08-10T18:25:56.909929Z",
     "start_time": "2025-08-10T18:25:56.903908Z"
    }
   },
   "cell_type": "code",
   "source": "t.ndim # .ndim gives us the number of dimensions, which is also the rank of the tensor.",
   "id": "d725c03d44ada8e4",
   "outputs": [
    {
     "data": {
      "text/plain": [
       "2"
      ]
     },
     "execution_count": 63,
     "metadata": {},
     "output_type": "execute_result"
    }
   ],
   "execution_count": 63
  },
  {
   "metadata": {
    "ExecuteTime": {
     "end_time": "2025-08-10T18:26:19.192502Z",
     "start_time": "2025-08-10T18:26:19.177140Z"
    }
   },
   "cell_type": "code",
   "source": "t.numel() # gives the total number of elements in the tensor.",
   "id": "f5694d4344cd96aa",
   "outputs": [
    {
     "data": {
      "text/plain": [
       "12"
      ]
     },
     "execution_count": 64,
     "metadata": {},
     "output_type": "execute_result"
    }
   ],
   "execution_count": 64
  },
  {
   "metadata": {
    "ExecuteTime": {
     "end_time": "2025-08-10T18:26:59.267479Z",
     "start_time": "2025-08-10T18:26:59.252791Z"
    }
   },
   "cell_type": "code",
   "source": "t.device # by default they are created on cpus",
   "id": "a8b50fcf0a4c1575",
   "outputs": [
    {
     "data": {
      "text/plain": [
       "device(type='cpu')"
      ]
     },
     "execution_count": 66,
     "metadata": {},
     "output_type": "execute_result"
    }
   ],
   "execution_count": 66
  },
  {
   "metadata": {
    "ExecuteTime": {
     "end_time": "2025-08-10T18:28:19.074487Z",
     "start_time": "2025-08-10T18:28:18.932561Z"
    }
   },
   "cell_type": "code",
   "source": "t_gpu = t.to(\"cuda\")",
   "id": "a8fb8b4f90e4a28",
   "outputs": [
    {
     "ename": "AssertionError",
     "evalue": "Torch not compiled with CUDA enabled",
     "output_type": "error",
     "traceback": [
      "\u001B[31m---------------------------------------------------------------------------\u001B[39m",
      "\u001B[31mAssertionError\u001B[39m                            Traceback (most recent call last)",
      "\u001B[36mCell\u001B[39m\u001B[36m \u001B[39m\u001B[32mIn[68]\u001B[39m\u001B[32m, line 1\u001B[39m\n\u001B[32m----> \u001B[39m\u001B[32m1\u001B[39m t_gpu = \u001B[43mt\u001B[49m\u001B[43m.\u001B[49m\u001B[43mto\u001B[49m\u001B[43m(\u001B[49m\u001B[33;43m\"\u001B[39;49m\u001B[33;43mcuda\u001B[39;49m\u001B[33;43m\"\u001B[39;49m\u001B[43m)\u001B[49m\n",
      "\u001B[36mFile \u001B[39m\u001B[32mC:\\Raghu\\MyLearnings\\LLMFromScratch\\LLMs-from-scratch\\.venv\\Lib\\site-packages\\torch\\cuda\\__init__.py:403\u001B[39m, in \u001B[36m_lazy_init\u001B[39m\u001B[34m()\u001B[39m\n\u001B[32m    398\u001B[39m     \u001B[38;5;28;01mraise\u001B[39;00m \u001B[38;5;167;01mRuntimeError\u001B[39;00m(\n\u001B[32m    399\u001B[39m         \u001B[33m\"\u001B[39m\u001B[33mCannot re-initialize CUDA in forked subprocess. To use CUDA with \u001B[39m\u001B[33m\"\u001B[39m\n\u001B[32m    400\u001B[39m         \u001B[33m\"\u001B[39m\u001B[33mmultiprocessing, you must use the \u001B[39m\u001B[33m'\u001B[39m\u001B[33mspawn\u001B[39m\u001B[33m'\u001B[39m\u001B[33m start method\u001B[39m\u001B[33m\"\u001B[39m\n\u001B[32m    401\u001B[39m     )\n\u001B[32m    402\u001B[39m \u001B[38;5;28;01mif\u001B[39;00m \u001B[38;5;129;01mnot\u001B[39;00m \u001B[38;5;28mhasattr\u001B[39m(torch._C, \u001B[33m\"\u001B[39m\u001B[33m_cuda_getDeviceCount\u001B[39m\u001B[33m\"\u001B[39m):\n\u001B[32m--> \u001B[39m\u001B[32m403\u001B[39m     \u001B[38;5;28;01mraise\u001B[39;00m \u001B[38;5;167;01mAssertionError\u001B[39;00m(\u001B[33m\"\u001B[39m\u001B[33mTorch not compiled with CUDA enabled\u001B[39m\u001B[33m\"\u001B[39m)\n\u001B[32m    404\u001B[39m \u001B[38;5;28;01mif\u001B[39;00m _cudart \u001B[38;5;129;01mis\u001B[39;00m \u001B[38;5;28;01mNone\u001B[39;00m:\n\u001B[32m    405\u001B[39m     \u001B[38;5;28;01mraise\u001B[39;00m \u001B[38;5;167;01mAssertionError\u001B[39;00m(\n\u001B[32m    406\u001B[39m         \u001B[33m\"\u001B[39m\u001B[33mlibcudart functions unavailable. It looks like you have a broken build?\u001B[39m\u001B[33m\"\u001B[39m\n\u001B[32m    407\u001B[39m     )\n",
      "\u001B[31mAssertionError\u001B[39m: Torch not compiled with CUDA enabled"
     ]
    }
   ],
   "execution_count": 68
  },
  {
   "metadata": {},
   "cell_type": "code",
   "outputs": [],
   "execution_count": null,
   "source": "",
   "id": "565e36a28501d63e"
  }
 ],
 "metadata": {
  "kernelspec": {
   "display_name": "Python 3",
   "language": "python",
   "name": "python3"
  },
  "language_info": {
   "codemirror_mode": {
    "name": "ipython",
    "version": 2
   },
   "file_extension": ".py",
   "mimetype": "text/x-python",
   "name": "python",
   "nbconvert_exporter": "python",
   "pygments_lexer": "ipython2",
   "version": "2.7.6"
  }
 },
 "nbformat": 4,
 "nbformat_minor": 5
}
