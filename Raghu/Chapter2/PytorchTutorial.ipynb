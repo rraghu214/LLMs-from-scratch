{
 "cells": [
  {
   "metadata": {
    "collapsed": true
   },
   "cell_type": "markdown",
   "source": "",
   "id": "15fe535894a24e5e"
  },
  {
   "metadata": {},
   "cell_type": "markdown",
   "source": "# Pytorch",
   "id": "d9813df25b8df14a"
  },
  {
   "metadata": {},
   "cell_type": "markdown",
   "source": "## Creating vectors as pytorch tensors",
   "id": "fa8150fe69c3198d"
  },
  {
   "metadata": {},
   "cell_type": "markdown",
   "source": "### A tensor is a generalization of vectors and matrices to potentially n number of dimensions",
   "id": "a8be37fb2056bd74"
  },
  {
   "metadata": {
    "ExecuteTime": {
     "end_time": "2025-08-10T17:56:46.035422Z",
     "start_time": "2025-08-10T17:56:40.598671Z"
    }
   },
   "cell_type": "code",
   "source": "import torch",
   "id": "872f74c2d6a01117",
   "outputs": [],
   "execution_count": 1
  },
  {
   "metadata": {
    "ExecuteTime": {
     "end_time": "2025-08-10T17:56:46.058159Z",
     "start_time": "2025-08-10T17:56:46.041035Z"
    }
   },
   "cell_type": "code",
   "source": "vec = torch.tensor([1.0,2.,3.0]) # 3D Vector",
   "id": "d9748719760945a7",
   "outputs": [],
   "execution_count": 2
  },
  {
   "metadata": {
    "ExecuteTime": {
     "end_time": "2025-08-10T17:56:46.072175Z",
     "start_time": "2025-08-10T17:56:46.065173Z"
    }
   },
   "cell_type": "code",
   "source": "type(vec)",
   "id": "907b275dc7e1743",
   "outputs": [
    {
     "data": {
      "text/plain": [
       "torch.Tensor"
      ]
     },
     "execution_count": 3,
     "metadata": {},
     "output_type": "execute_result"
    }
   ],
   "execution_count": 3
  },
  {
   "metadata": {},
   "cell_type": "markdown",
   "source": "### Shape and indexing",
   "id": "6e2a4cce0ae7c30d"
  },
  {
   "metadata": {
    "ExecuteTime": {
     "end_time": "2025-08-10T17:56:46.158988Z",
     "start_time": "2025-08-10T17:56:46.085696Z"
    }
   },
   "cell_type": "code",
   "source": [
    "print(vec.shape) # torch.size([3])\n",
    "print(vec[0]) # tensor(1.)\n",
    "print(vec[-1]) # tensor(3.)\n",
    "print(vec[1:]) # tensor(2.,3.)"
   ],
   "id": "52c94f86cb8dff78",
   "outputs": [
    {
     "name": "stdout",
     "output_type": "stream",
     "text": [
      "torch.Size([3])\n",
      "tensor(1.)\n",
      "tensor(3.)\n",
      "tensor([2., 3.])\n"
     ]
    }
   ],
   "execution_count": 4
  },
  {
   "metadata": {},
   "cell_type": "markdown",
   "source": "### Vectorised Operations",
   "id": "c908b09ee1fa28fc"
  },
  {
   "metadata": {
    "ExecuteTime": {
     "end_time": "2025-08-10T17:56:46.177996Z",
     "start_time": "2025-08-10T17:56:46.165999Z"
    }
   },
   "cell_type": "code",
   "source": [
    "other = torch.tensor([4.0,5.0,6.0])\n",
    "\n",
    "print(vec+other) # tensor([5.,7.,9.])\n",
    "print(vec * 2) # tensor([2.,6.,8.])\n",
    "print(vec ** 2) # tensor([1.,4.,9.])"
   ],
   "id": "a3c3b99d036311a4",
   "outputs": [
    {
     "name": "stdout",
     "output_type": "stream",
     "text": [
      "tensor([5., 7., 9.])\n",
      "tensor([2., 4., 6.])\n",
      "tensor([1., 4., 9.])\n"
     ]
    }
   ],
   "execution_count": 5
  },
  {
   "metadata": {},
   "cell_type": "markdown",
   "source": "### Aggregations",
   "id": "c3d4c1efeaa76b9e"
  },
  {
   "metadata": {
    "ExecuteTime": {
     "end_time": "2025-08-10T17:56:46.214804Z",
     "start_time": "2025-08-10T17:56:46.205531Z"
    }
   },
   "cell_type": "code",
   "source": [
    "print(vec.sum())\n",
    "print(vec.mean())\n",
    "print(vec.std())"
   ],
   "id": "3dbd98389fe0fadf",
   "outputs": [
    {
     "name": "stdout",
     "output_type": "stream",
     "text": [
      "tensor(6.)\n",
      "tensor(2.)\n",
      "tensor(1.)\n"
     ]
    }
   ],
   "execution_count": 6
  },
  {
   "metadata": {},
   "cell_type": "markdown",
   "source": "### Quick Creations",
   "id": "88a1086524e035cb"
  },
  {
   "metadata": {
    "ExecuteTime": {
     "end_time": "2025-08-10T17:56:46.260494Z",
     "start_time": "2025-08-10T17:56:46.254495Z"
    }
   },
   "cell_type": "code",
   "source": "torch.zeros(3)",
   "id": "358a663c6e7268b1",
   "outputs": [
    {
     "data": {
      "text/plain": [
       "tensor([0., 0., 0.])"
      ]
     },
     "execution_count": 7,
     "metadata": {},
     "output_type": "execute_result"
    }
   ],
   "execution_count": 7
  },
  {
   "metadata": {
    "ExecuteTime": {
     "end_time": "2025-08-10T17:56:46.291384Z",
     "start_time": "2025-08-10T17:56:46.285369Z"
    }
   },
   "cell_type": "code",
   "source": "torch.ones(3)",
   "id": "e569c4acedd6d95e",
   "outputs": [
    {
     "data": {
      "text/plain": [
       "tensor([1., 1., 1.])"
      ]
     },
     "execution_count": 8,
     "metadata": {},
     "output_type": "execute_result"
    }
   ],
   "execution_count": 8
  },
  {
   "metadata": {
    "ExecuteTime": {
     "end_time": "2025-08-10T17:56:46.314736Z",
     "start_time": "2025-08-10T17:56:46.306787Z"
    }
   },
   "cell_type": "code",
   "source": "torch.arange(0,5)",
   "id": "d6140e6df58602a3",
   "outputs": [
    {
     "data": {
      "text/plain": [
       "tensor([0, 1, 2, 3, 4])"
      ]
     },
     "execution_count": 9,
     "metadata": {},
     "output_type": "execute_result"
    }
   ],
   "execution_count": 9
  },
  {
   "metadata": {
    "ExecuteTime": {
     "end_time": "2025-08-10T17:56:46.335945Z",
     "start_time": "2025-08-10T17:56:46.326378Z"
    }
   },
   "cell_type": "code",
   "source": "torch.linspace(0,1,5)",
   "id": "7445aedc2dc16cfb",
   "outputs": [
    {
     "data": {
      "text/plain": [
       "tensor([0.0000, 0.2500, 0.5000, 0.7500, 1.0000])"
      ]
     },
     "execution_count": 10,
     "metadata": {},
     "output_type": "execute_result"
    }
   ],
   "execution_count": 10
  },
  {
   "metadata": {
    "ExecuteTime": {
     "end_time": "2025-08-10T17:56:46.362239Z",
     "start_time": "2025-08-10T17:56:46.351218Z"
    }
   },
   "cell_type": "code",
   "source": "torch.rand(3)",
   "id": "b0078ac6c80ebc3b",
   "outputs": [
    {
     "data": {
      "text/plain": [
       "tensor([0.9327, 0.0175, 0.9239])"
      ]
     },
     "execution_count": 11,
     "metadata": {},
     "output_type": "execute_result"
    }
   ],
   "execution_count": 11
  },
  {
   "metadata": {},
   "cell_type": "markdown",
   "source": "### Whether you are using numpy or pytorch, creating a vector is just about bundling multiple numbers together into one object",
   "id": "13349e850df6ce52"
  },
  {
   "metadata": {
    "ExecuteTime": {
     "end_time": "2025-08-10T17:57:11.917583Z",
     "start_time": "2025-08-10T17:57:11.907566Z"
    }
   },
   "cell_type": "code",
   "source": "scalar = torch.tensor(7.0) # Tensor with 0 dimensions",
   "id": "8f194bcf0bbe9b4b",
   "outputs": [],
   "execution_count": 14
  },
  {
   "metadata": {
    "ExecuteTime": {
     "end_time": "2025-08-10T17:57:12.815762Z",
     "start_time": "2025-08-10T17:57:12.798749Z"
    }
   },
   "cell_type": "code",
   "source": "scalar",
   "id": "a12cd57a09ca1eb7",
   "outputs": [
    {
     "data": {
      "text/plain": [
       "tensor(7.)"
      ]
     },
     "execution_count": 15,
     "metadata": {},
     "output_type": "execute_result"
    }
   ],
   "execution_count": 15
  },
  {
   "metadata": {
    "ExecuteTime": {
     "end_time": "2025-08-10T17:58:09.736253Z",
     "start_time": "2025-08-10T17:58:09.719303Z"
    }
   },
   "cell_type": "code",
   "source": [
    "vector = torch.tensor([1.0,2.0,3.0]) # Passing a list creates a tensor of one dimensional vector\n",
    "vector"
   ],
   "id": "132f244f058b4ecf",
   "outputs": [
    {
     "data": {
      "text/plain": [
       "tensor([1., 2., 3.])"
      ]
     },
     "execution_count": 17,
     "metadata": {},
     "output_type": "execute_result"
    }
   ],
   "execution_count": 17
  },
  {
   "metadata": {
    "ExecuteTime": {
     "end_time": "2025-08-10T17:58:50.739940Z",
     "start_time": "2025-08-10T17:58:50.728939Z"
    }
   },
   "cell_type": "code",
   "source": [
    "## A matrix is a list of lists.\n",
    "\n",
    "matrix = torch.tensor([[1,2],[3,4]])"
   ],
   "id": "bdc7c9a06e946b2f",
   "outputs": [],
   "execution_count": 18
  },
  {
   "metadata": {
    "ExecuteTime": {
     "end_time": "2025-08-10T17:59:31.861848Z",
     "start_time": "2025-08-10T17:59:31.849623Z"
    }
   },
   "cell_type": "code",
   "source": "print(matrix)",
   "id": "4bd65b0a663ad6fe",
   "outputs": [
    {
     "name": "stdout",
     "output_type": "stream",
     "text": [
      "tensor([[1, 2],\n",
      "        [3, 4]])\n"
     ]
    }
   ],
   "execution_count": 21
  },
  {
   "metadata": {
    "ExecuteTime": {
     "end_time": "2025-08-10T18:02:52.009970Z",
     "start_time": "2025-08-10T18:02:51.998410Z"
    }
   },
   "cell_type": "code",
   "source": [
    "tensor3d = torch.tensor([\n",
    "    [[1,2],[3,4]],\n",
    "    [[5,6],[7,8]]\n",
    "\n",
    "],\n",
    "dtype=torch.float32)"
   ],
   "id": "b458755c5fbd86c3",
   "outputs": [],
   "execution_count": 26
  },
  {
   "metadata": {
    "ExecuteTime": {
     "end_time": "2025-08-10T18:02:52.781213Z",
     "start_time": "2025-08-10T18:02:52.764287Z"
    }
   },
   "cell_type": "code",
   "source": "tensor3d",
   "id": "89637ecd68794e46",
   "outputs": [
    {
     "data": {
      "text/plain": [
       "tensor([[[1., 2.],\n",
       "         [3., 4.]],\n",
       "\n",
       "        [[5., 6.],\n",
       "         [7., 8.]]])"
      ]
     },
     "execution_count": 27,
     "metadata": {},
     "output_type": "execute_result"
    }
   ],
   "execution_count": 27
  },
  {
   "metadata": {},
   "cell_type": "markdown",
   "source": "#### The level of nesting determines the rank of the tensor",
   "id": "749bad341e52b8a7"
  },
  {
   "metadata": {
    "ExecuteTime": {
     "end_time": "2025-08-10T18:01:59.231946Z",
     "start_time": "2025-08-10T18:01:59.226805Z"
    }
   },
   "cell_type": "code",
   "source": "matrix.dtype",
   "id": "c22381ff1af92c87",
   "outputs": [
    {
     "data": {
      "text/plain": [
       "torch.int64"
      ]
     },
     "execution_count": 24,
     "metadata": {},
     "output_type": "execute_result"
    }
   ],
   "execution_count": 24
  },
  {
   "metadata": {
    "ExecuteTime": {
     "end_time": "2025-08-10T18:02:05.985933Z",
     "start_time": "2025-08-10T18:02:05.979933Z"
    }
   },
   "cell_type": "code",
   "source": "vector.dtype",
   "id": "34fef322d7b2361f",
   "outputs": [
    {
     "data": {
      "text/plain": [
       "torch.float32"
      ]
     },
     "execution_count": 25,
     "metadata": {},
     "output_type": "execute_result"
    }
   ],
   "execution_count": 25
  },
  {
   "metadata": {
    "ExecuteTime": {
     "end_time": "2025-08-10T18:03:02.958223Z",
     "start_time": "2025-08-10T18:03:02.944143Z"
    }
   },
   "cell_type": "code",
   "source": "tensor3d.dtype",
   "id": "7a4e23c7820af44e",
   "outputs": [
    {
     "data": {
      "text/plain": [
       "torch.float32"
      ]
     },
     "execution_count": 28,
     "metadata": {},
     "output_type": "execute_result"
    }
   ],
   "execution_count": 28
  },
  {
   "metadata": {
    "ExecuteTime": {
     "end_time": "2025-08-10T18:13:41.898861Z",
     "start_time": "2025-08-10T18:13:41.886880Z"
    }
   },
   "cell_type": "code",
   "source": "print(torch.zeros(4,2))",
   "id": "4bcb83512ad0efe8",
   "outputs": [
    {
     "name": "stdout",
     "output_type": "stream",
     "text": [
      "tensor([[0., 0.],\n",
      "        [0., 0.],\n",
      "        [0., 0.],\n",
      "        [0., 0.]])\n"
     ]
    }
   ],
   "execution_count": 30
  },
  {
   "metadata": {
    "ExecuteTime": {
     "end_time": "2025-08-10T18:13:55.913186Z",
     "start_time": "2025-08-10T18:13:55.906187Z"
    }
   },
   "cell_type": "code",
   "source": "print(torch.zeros(4,2,3))",
   "id": "f07d9ccd7e815e5f",
   "outputs": [
    {
     "name": "stdout",
     "output_type": "stream",
     "text": [
      "tensor([[[0., 0., 0.],\n",
      "         [0., 0., 0.]],\n",
      "\n",
      "        [[0., 0., 0.],\n",
      "         [0., 0., 0.]],\n",
      "\n",
      "        [[0., 0., 0.],\n",
      "         [0., 0., 0.]],\n",
      "\n",
      "        [[0., 0., 0.],\n",
      "         [0., 0., 0.]]])\n"
     ]
    }
   ],
   "execution_count": 31
  },
  {
   "metadata": {
    "ExecuteTime": {
     "end_time": "2025-08-10T18:15:35.145924Z",
     "start_time": "2025-08-10T18:15:35.139667Z"
    }
   },
   "cell_type": "code",
   "source": "print(torch.zeros(5,2,3,4))",
   "id": "12ca06e6cd6a79e4",
   "outputs": [
    {
     "name": "stdout",
     "output_type": "stream",
     "text": [
      "tensor([[[[0., 0., 0., 0.],\n",
      "          [0., 0., 0., 0.],\n",
      "          [0., 0., 0., 0.]],\n",
      "\n",
      "         [[0., 0., 0., 0.],\n",
      "          [0., 0., 0., 0.],\n",
      "          [0., 0., 0., 0.]]],\n",
      "\n",
      "\n",
      "        [[[0., 0., 0., 0.],\n",
      "          [0., 0., 0., 0.],\n",
      "          [0., 0., 0., 0.]],\n",
      "\n",
      "         [[0., 0., 0., 0.],\n",
      "          [0., 0., 0., 0.],\n",
      "          [0., 0., 0., 0.]]],\n",
      "\n",
      "\n",
      "        [[[0., 0., 0., 0.],\n",
      "          [0., 0., 0., 0.],\n",
      "          [0., 0., 0., 0.]],\n",
      "\n",
      "         [[0., 0., 0., 0.],\n",
      "          [0., 0., 0., 0.],\n",
      "          [0., 0., 0., 0.]]],\n",
      "\n",
      "\n",
      "        [[[0., 0., 0., 0.],\n",
      "          [0., 0., 0., 0.],\n",
      "          [0., 0., 0., 0.]],\n",
      "\n",
      "         [[0., 0., 0., 0.],\n",
      "          [0., 0., 0., 0.],\n",
      "          [0., 0., 0., 0.]]],\n",
      "\n",
      "\n",
      "        [[[0., 0., 0., 0.],\n",
      "          [0., 0., 0., 0.],\n",
      "          [0., 0., 0., 0.]],\n",
      "\n",
      "         [[0., 0., 0., 0.],\n",
      "          [0., 0., 0., 0.],\n",
      "          [0., 0., 0., 0.]]]])\n"
     ]
    }
   ],
   "execution_count": 39
  },
  {
   "metadata": {
    "ExecuteTime": {
     "end_time": "2025-08-10T18:16:17.233246Z",
     "start_time": "2025-08-10T18:16:17.220850Z"
    }
   },
   "cell_type": "code",
   "source": "print(torch.ones(2,3))",
   "id": "a35fd89308576a8d",
   "outputs": [
    {
     "name": "stdout",
     "output_type": "stream",
     "text": [
      "tensor([[1., 1., 1.],\n",
      "        [1., 1., 1.]])\n"
     ]
    }
   ],
   "execution_count": 42
  },
  {
   "metadata": {
    "ExecuteTime": {
     "end_time": "2025-08-10T18:20:28.696223Z",
     "start_time": "2025-08-10T18:20:28.681826Z"
    }
   },
   "cell_type": "code",
   "source": "print(torch.full((5,5),7))",
   "id": "153099d93015db4f",
   "outputs": [
    {
     "name": "stdout",
     "output_type": "stream",
     "text": [
      "tensor([[7, 7, 7, 7, 7],\n",
      "        [7, 7, 7, 7, 7],\n",
      "        [7, 7, 7, 7, 7],\n",
      "        [7, 7, 7, 7, 7],\n",
      "        [7, 7, 7, 7, 7]])\n"
     ]
    }
   ],
   "execution_count": 45
  },
  {
   "metadata": {
    "ExecuteTime": {
     "end_time": "2025-08-10T18:20:59.492769Z",
     "start_time": "2025-08-10T18:20:59.487495Z"
    }
   },
   "cell_type": "code",
   "source": "print(torch.eye(3) * 9)",
   "id": "30c6299c7b4f0fe8",
   "outputs": [
    {
     "name": "stdout",
     "output_type": "stream",
     "text": [
      "tensor([[9., 0., 0.],\n",
      "        [0., 9., 0.],\n",
      "        [0., 0., 9.]])\n"
     ]
    }
   ],
   "execution_count": 48
  },
  {
   "metadata": {
    "ExecuteTime": {
     "end_time": "2025-08-10T18:21:41.226337Z",
     "start_time": "2025-08-10T18:21:41.219159Z"
    }
   },
   "cell_type": "code",
   "source": "print(torch.rand(3,2))",
   "id": "b6391b2954700807",
   "outputs": [
    {
     "name": "stdout",
     "output_type": "stream",
     "text": [
      "tensor([[0.7541, 0.7270],\n",
      "        [0.5087, 0.6257],\n",
      "        [0.5586, 0.3681]])\n"
     ]
    }
   ],
   "execution_count": 50
  },
  {
   "metadata": {
    "ExecuteTime": {
     "end_time": "2025-08-10T18:22:17.646053Z",
     "start_time": "2025-08-10T18:22:17.631115Z"
    }
   },
   "cell_type": "code",
   "source": "print(torch.randn(3,2)) # randn picks up the value from a normal distribution",
   "id": "6fc86eea03e69aa0",
   "outputs": [
    {
     "name": "stdout",
     "output_type": "stream",
     "text": [
      "tensor([[ 0.3559, -0.7556],\n",
      "        [ 0.1583,  0.2582],\n",
      "        [ 1.3856,  1.5155]])\n"
     ]
    }
   ],
   "execution_count": 52
  },
  {
   "metadata": {
    "ExecuteTime": {
     "end_time": "2025-08-10T18:23:29.805835Z",
     "start_time": "2025-08-10T18:23:29.794465Z"
    }
   },
   "cell_type": "code",
   "source": "val = torch.randn(3,2)",
   "id": "4fcac004ddabce1e",
   "outputs": [],
   "execution_count": 54
  },
  {
   "metadata": {
    "ExecuteTime": {
     "end_time": "2025-08-10T18:23:38.888825Z",
     "start_time": "2025-08-10T18:23:38.877383Z"
    }
   },
   "cell_type": "code",
   "source": "print(val)",
   "id": "3a7af82dcd8b3042",
   "outputs": [
    {
     "name": "stdout",
     "output_type": "stream",
     "text": [
      "tensor([[ 0.5341, -0.5011],\n",
      "        [ 1.7123,  1.1546],\n",
      "        [ 0.9367,  0.4066]])\n"
     ]
    }
   ],
   "execution_count": 56
  },
  {
   "metadata": {
    "ExecuteTime": {
     "end_time": "2025-08-10T18:23:44.156408Z",
     "start_time": "2025-08-10T18:23:44.145046Z"
    }
   },
   "cell_type": "code",
   "source": "sum(val)",
   "id": "d798fe2e5bd9d95d",
   "outputs": [
    {
     "data": {
      "text/plain": [
       "tensor([3.1831, 1.0601])"
      ]
     },
     "execution_count": 57,
     "metadata": {},
     "output_type": "execute_result"
    }
   ],
   "execution_count": 57
  },
  {
   "metadata": {
    "ExecuteTime": {
     "end_time": "2025-08-10T18:24:27.610862Z",
     "start_time": "2025-08-10T18:24:27.601323Z"
    }
   },
   "cell_type": "code",
   "source": "t = torch.randn(3,4)",
   "id": "d7fcc7cbbd84cf31",
   "outputs": [],
   "execution_count": 58
  },
  {
   "metadata": {
    "ExecuteTime": {
     "end_time": "2025-08-10T18:24:32.965034Z",
     "start_time": "2025-08-10T18:24:32.959600Z"
    }
   },
   "cell_type": "code",
   "source": "t.shape # .shape tells us the size of the tensor in each dimension.",
   "id": "84d04d26f00a6461",
   "outputs": [
    {
     "data": {
      "text/plain": [
       "torch.Size([3, 4])"
      ]
     },
     "execution_count": 59,
     "metadata": {},
     "output_type": "execute_result"
    }
   ],
   "execution_count": 59
  },
  {
   "metadata": {
    "ExecuteTime": {
     "end_time": "2025-08-10T18:25:56.909929Z",
     "start_time": "2025-08-10T18:25:56.903908Z"
    }
   },
   "cell_type": "code",
   "source": "t.ndim # .ndim gives us the number of dimensions, which is also the rank of the tensor.",
   "id": "d725c03d44ada8e4",
   "outputs": [
    {
     "data": {
      "text/plain": [
       "2"
      ]
     },
     "execution_count": 63,
     "metadata": {},
     "output_type": "execute_result"
    }
   ],
   "execution_count": 63
  },
  {
   "metadata": {
    "ExecuteTime": {
     "end_time": "2025-08-10T18:26:19.192502Z",
     "start_time": "2025-08-10T18:26:19.177140Z"
    }
   },
   "cell_type": "code",
   "source": "t.numel() # gives the total number of elements in the tensor.",
   "id": "f5694d4344cd96aa",
   "outputs": [
    {
     "data": {
      "text/plain": [
       "12"
      ]
     },
     "execution_count": 64,
     "metadata": {},
     "output_type": "execute_result"
    }
   ],
   "execution_count": 64
  },
  {
   "metadata": {
    "ExecuteTime": {
     "end_time": "2025-08-10T18:26:59.267479Z",
     "start_time": "2025-08-10T18:26:59.252791Z"
    }
   },
   "cell_type": "code",
   "source": "t.device # by default they are created on cpus",
   "id": "a8b50fcf0a4c1575",
   "outputs": [
    {
     "data": {
      "text/plain": [
       "device(type='cpu')"
      ]
     },
     "execution_count": 66,
     "metadata": {},
     "output_type": "execute_result"
    }
   ],
   "execution_count": 66
  },
  {
   "metadata": {
    "ExecuteTime": {
     "end_time": "2025-08-10T18:28:19.074487Z",
     "start_time": "2025-08-10T18:28:18.932561Z"
    }
   },
   "cell_type": "code",
   "source": "t_gpu = t.to(\"cuda\")",
   "id": "a8fb8b4f90e4a28",
   "outputs": [
    {
     "ename": "AssertionError",
     "evalue": "Torch not compiled with CUDA enabled",
     "output_type": "error",
     "traceback": [
      "\u001B[31m---------------------------------------------------------------------------\u001B[39m",
      "\u001B[31mAssertionError\u001B[39m                            Traceback (most recent call last)",
      "\u001B[36mCell\u001B[39m\u001B[36m \u001B[39m\u001B[32mIn[68]\u001B[39m\u001B[32m, line 1\u001B[39m\n\u001B[32m----> \u001B[39m\u001B[32m1\u001B[39m t_gpu = \u001B[43mt\u001B[49m\u001B[43m.\u001B[49m\u001B[43mto\u001B[49m\u001B[43m(\u001B[49m\u001B[33;43m\"\u001B[39;49m\u001B[33;43mcuda\u001B[39;49m\u001B[33;43m\"\u001B[39;49m\u001B[43m)\u001B[49m\n",
      "\u001B[36mFile \u001B[39m\u001B[32mC:\\Raghu\\MyLearnings\\LLMFromScratch\\LLMs-from-scratch\\.venv\\Lib\\site-packages\\torch\\cuda\\__init__.py:403\u001B[39m, in \u001B[36m_lazy_init\u001B[39m\u001B[34m()\u001B[39m\n\u001B[32m    398\u001B[39m     \u001B[38;5;28;01mraise\u001B[39;00m \u001B[38;5;167;01mRuntimeError\u001B[39;00m(\n\u001B[32m    399\u001B[39m         \u001B[33m\"\u001B[39m\u001B[33mCannot re-initialize CUDA in forked subprocess. To use CUDA with \u001B[39m\u001B[33m\"\u001B[39m\n\u001B[32m    400\u001B[39m         \u001B[33m\"\u001B[39m\u001B[33mmultiprocessing, you must use the \u001B[39m\u001B[33m'\u001B[39m\u001B[33mspawn\u001B[39m\u001B[33m'\u001B[39m\u001B[33m start method\u001B[39m\u001B[33m\"\u001B[39m\n\u001B[32m    401\u001B[39m     )\n\u001B[32m    402\u001B[39m \u001B[38;5;28;01mif\u001B[39;00m \u001B[38;5;129;01mnot\u001B[39;00m \u001B[38;5;28mhasattr\u001B[39m(torch._C, \u001B[33m\"\u001B[39m\u001B[33m_cuda_getDeviceCount\u001B[39m\u001B[33m\"\u001B[39m):\n\u001B[32m--> \u001B[39m\u001B[32m403\u001B[39m     \u001B[38;5;28;01mraise\u001B[39;00m \u001B[38;5;167;01mAssertionError\u001B[39;00m(\u001B[33m\"\u001B[39m\u001B[33mTorch not compiled with CUDA enabled\u001B[39m\u001B[33m\"\u001B[39m)\n\u001B[32m    404\u001B[39m \u001B[38;5;28;01mif\u001B[39;00m _cudart \u001B[38;5;129;01mis\u001B[39;00m \u001B[38;5;28;01mNone\u001B[39;00m:\n\u001B[32m    405\u001B[39m     \u001B[38;5;28;01mraise\u001B[39;00m \u001B[38;5;167;01mAssertionError\u001B[39;00m(\n\u001B[32m    406\u001B[39m         \u001B[33m\"\u001B[39m\u001B[33mlibcudart functions unavailable. It looks like you have a broken build?\u001B[39m\u001B[33m\"\u001B[39m\n\u001B[32m    407\u001B[39m     )\n",
      "\u001B[31mAssertionError\u001B[39m: Torch not compiled with CUDA enabled"
     ]
    }
   ],
   "execution_count": 68
  },
  {
   "metadata": {
    "ExecuteTime": {
     "end_time": "2025-08-11T05:54:44.940588Z",
     "start_time": "2025-08-11T05:54:44.923198Z"
    }
   },
   "cell_type": "code",
   "source": [
    "scalar = torch.tensor(42.0)\n",
    "type(scalar)"
   ],
   "id": "565e36a28501d63e",
   "outputs": [
    {
     "data": {
      "text/plain": [
       "torch.Tensor"
      ]
     },
     "execution_count": 71,
     "metadata": {},
     "output_type": "execute_result"
    }
   ],
   "execution_count": 71
  },
  {
   "metadata": {
    "ExecuteTime": {
     "end_time": "2025-08-11T05:54:58.627677Z",
     "start_time": "2025-08-11T05:54:58.611390Z"
    }
   },
   "cell_type": "code",
   "source": [
    "value = scalar.item() # Gives the python value\n",
    "type(value)"
   ],
   "id": "49d8c5135ade4178",
   "outputs": [
    {
     "data": {
      "text/plain": [
       "float"
      ]
     },
     "execution_count": 72,
     "metadata": {},
     "output_type": "execute_result"
    }
   ],
   "execution_count": 72
  },
  {
   "metadata": {
    "ExecuteTime": {
     "end_time": "2025-08-11T05:55:15.353190Z",
     "start_time": "2025-08-11T05:55:15.336274Z"
    }
   },
   "cell_type": "code",
   "source": "vector = torch.tensor([1.0,2.0,3.0])",
   "id": "ffa4caf31f5bece8",
   "outputs": [],
   "execution_count": 73
  },
  {
   "metadata": {
    "ExecuteTime": {
     "end_time": "2025-08-11T05:55:53.237266Z",
     "start_time": "2025-08-11T05:55:53.207308Z"
    }
   },
   "cell_type": "code",
   "source": "vector.numpy() # Convert a pytorch tensor to a numpy array",
   "id": "6e84e413413e6027",
   "outputs": [
    {
     "data": {
      "text/plain": [
       "array([1., 2., 3.], dtype=float32)"
      ]
     },
     "execution_count": 75,
     "metadata": {},
     "output_type": "execute_result"
    }
   ],
   "execution_count": 75
  },
  {
   "metadata": {
    "ExecuteTime": {
     "end_time": "2025-08-11T05:56:57.579125Z",
     "start_time": "2025-08-11T05:56:57.574126Z"
    }
   },
   "cell_type": "code",
   "source": "import numpy as np",
   "id": "2bca83772cd3ad54",
   "outputs": [],
   "execution_count": 77
  },
  {
   "metadata": {
    "ExecuteTime": {
     "end_time": "2025-08-11T05:57:39.628811Z",
     "start_time": "2025-08-11T05:57:39.613226Z"
    }
   },
   "cell_type": "code",
   "source": [
    "numpy_matrix = np.array([[10,20,30],[40,50,60]])\n",
    "type(numpy_matrix)"
   ],
   "id": "32a5569bde38cef4",
   "outputs": [
    {
     "data": {
      "text/plain": [
       "numpy.ndarray"
      ]
     },
     "execution_count": 82,
     "metadata": {},
     "output_type": "execute_result"
    }
   ],
   "execution_count": 82
  },
  {
   "metadata": {
    "ExecuteTime": {
     "end_time": "2025-08-11T05:59:53.988518Z",
     "start_time": "2025-08-11T05:59:53.956121Z"
    }
   },
   "cell_type": "code",
   "source": [
    "type(torch.from_numpy(numpy_matrix)) # Converts numpy array to pytorch tensor\n",
    "# This shares memory with the original variable."
   ],
   "id": "bbba21983c95ba8c",
   "outputs": [
    {
     "data": {
      "text/plain": [
       "torch.Tensor"
      ]
     },
     "execution_count": 84,
     "metadata": {},
     "output_type": "execute_result"
    }
   ],
   "execution_count": 84
  },
  {
   "metadata": {},
   "cell_type": "markdown",
   "source": "### Use torch.tensor() - Not torch.Tensor()",
   "id": "e61e79ba274c810d"
  },
  {
   "metadata": {
    "ExecuteTime": {
     "end_time": "2025-08-11T06:00:34.803667Z",
     "start_time": "2025-08-11T06:00:34.786204Z"
    }
   },
   "cell_type": "code",
   "source": "torch.tensor([1,2,3]) # This is preferred, it infers shape and type properly.",
   "id": "a5915b2506d8bc94",
   "outputs": [
    {
     "data": {
      "text/plain": [
       "tensor([1, 2, 3])"
      ]
     },
     "execution_count": 85,
     "metadata": {},
     "output_type": "execute_result"
    }
   ],
   "execution_count": 85
  },
  {
   "metadata": {
    "ExecuteTime": {
     "end_time": "2025-08-11T06:01:13.476678Z",
     "start_time": "2025-08-11T06:01:13.471677Z"
    }
   },
   "cell_type": "code",
   "source": "type(torch.tensor([1,2,3]))",
   "id": "e884b72a14c2e98",
   "outputs": [
    {
     "data": {
      "text/plain": [
       "torch.Tensor"
      ]
     },
     "execution_count": 87,
     "metadata": {},
     "output_type": "execute_result"
    }
   ],
   "execution_count": 87
  },
  {
   "metadata": {
    "ExecuteTime": {
     "end_time": "2025-08-11T06:02:29.897885Z",
     "start_time": "2025-08-11T06:02:29.881304Z"
    }
   },
   "cell_type": "code",
   "source": "torch.Tensor([1,2,3]) # it is a low level constructor and often creates uninitialized memory",
   "id": "8d9307b30676b01e",
   "outputs": [
    {
     "data": {
      "text/plain": [
       "tensor([1., 2., 3.])"
      ]
     },
     "execution_count": 89,
     "metadata": {},
     "output_type": "execute_result"
    }
   ],
   "execution_count": 89
  },
  {
   "metadata": {
    "ExecuteTime": {
     "end_time": "2025-08-11T06:01:22.865605Z",
     "start_time": "2025-08-11T06:01:22.859584Z"
    }
   },
   "cell_type": "code",
   "source": "type(torch.Tensor([1,2,3]))",
   "id": "650862cd3bc86d4f",
   "outputs": [
    {
     "data": {
      "text/plain": [
       "torch.Tensor"
      ]
     },
     "execution_count": 88,
     "metadata": {},
     "output_type": "execute_result"
    }
   ],
   "execution_count": 88
  },
  {
   "metadata": {
    "ExecuteTime": {
     "end_time": "2025-08-11T06:03:09.123603Z",
     "start_time": "2025-08-11T06:03:09.096935Z"
    }
   },
   "cell_type": "code",
   "source": "t.shape",
   "id": "78c84a03ef38d8b6",
   "outputs": [
    {
     "data": {
      "text/plain": [
       "torch.Size([3, 4])"
      ]
     },
     "execution_count": 90,
     "metadata": {},
     "output_type": "execute_result"
    }
   ],
   "execution_count": 90
  },
  {
   "metadata": {
    "ExecuteTime": {
     "end_time": "2025-08-11T06:03:13.655133Z",
     "start_time": "2025-08-11T06:03:13.640892Z"
    }
   },
   "cell_type": "code",
   "source": "t.ndim",
   "id": "9c0fe5f64ef2a680",
   "outputs": [
    {
     "data": {
      "text/plain": [
       "2"
      ]
     },
     "execution_count": 91,
     "metadata": {},
     "output_type": "execute_result"
    }
   ],
   "execution_count": 91
  },
  {
   "metadata": {},
   "cell_type": "markdown",
   "source": "#### Never mix cpu & gpu based tensor in operations",
   "id": "14837dbbc74fbfa0"
  },
  {
   "metadata": {},
   "cell_type": "markdown",
   "source": "## Manipulating Tensors: Creating, Slicing, Inspecting",
   "id": "1313ec5134b0ea5e"
  },
  {
   "metadata": {},
   "cell_type": "markdown",
   "source": "### Basic Indexing",
   "id": "3a6b9896b0d237f3"
  },
  {
   "metadata": {
    "ExecuteTime": {
     "end_time": "2025-08-11T07:13:22.878429Z",
     "start_time": "2025-08-11T07:13:22.874371Z"
    }
   },
   "cell_type": "code",
   "source": [
    "import torch\n",
    "# Let's consider a simple matrix of 2 rows and 3 columns.\n",
    "t = torch.tensor([[10,20,30],\n",
    "                  [40,50,60]])"
   ],
   "id": "6b6b66e1412f2f56",
   "outputs": [],
   "execution_count": 93
  },
  {
   "metadata": {},
   "cell_type": "markdown",
   "source": [
    "#### Indexing\n",
    "#### Helps us extract elements like rows, columns or subtensors"
   ],
   "id": "aab3e01a969ccbe2"
  },
  {
   "metadata": {
    "ExecuteTime": {
     "end_time": "2025-08-11T07:14:29.177861Z",
     "start_time": "2025-08-11T07:14:29.159858Z"
    }
   },
   "cell_type": "code",
   "source": "t[0]",
   "id": "ea1ab8936fd87027",
   "outputs": [
    {
     "data": {
      "text/plain": [
       "tensor([10, 20, 30])"
      ]
     },
     "execution_count": 94,
     "metadata": {},
     "output_type": "execute_result"
    }
   ],
   "execution_count": 94
  },
  {
   "metadata": {
    "ExecuteTime": {
     "end_time": "2025-08-11T07:15:20.099315Z",
     "start_time": "2025-08-11T07:15:20.089906Z"
    }
   },
   "cell_type": "code",
   "source": "t[0][2]",
   "id": "cb2341a5f9e8e70e",
   "outputs": [
    {
     "data": {
      "text/plain": [
       "tensor(30)"
      ]
     },
     "execution_count": 97,
     "metadata": {},
     "output_type": "execute_result"
    }
   ],
   "execution_count": 97
  },
  {
   "metadata": {
    "ExecuteTime": {
     "end_time": "2025-08-11T07:15:35.671105Z",
     "start_time": "2025-08-11T07:15:35.654747Z"
    }
   },
   "cell_type": "code",
   "source": "t[1,2] # Preferred syntax",
   "id": "d8529f478c08f879",
   "outputs": [
    {
     "data": {
      "text/plain": [
       "tensor(60)"
      ]
     },
     "execution_count": 99,
     "metadata": {},
     "output_type": "execute_result"
    }
   ],
   "execution_count": 99
  },
  {
   "metadata": {},
   "cell_type": "markdown",
   "source": "#### Slicing with ranges",
   "id": "101674c823111df7"
  },
  {
   "metadata": {
    "ExecuteTime": {
     "end_time": "2025-08-11T07:16:42.330643Z",
     "start_time": "2025-08-11T07:16:42.310077Z"
    }
   },
   "cell_type": "code",
   "source": "t[:,1]",
   "id": "bedc39a704ea560a",
   "outputs": [
    {
     "data": {
      "text/plain": [
       "tensor([20, 50])"
      ]
     },
     "execution_count": 102,
     "metadata": {},
     "output_type": "execute_result"
    }
   ],
   "execution_count": 102
  },
  {
   "metadata": {
    "ExecuteTime": {
     "end_time": "2025-08-11T07:17:33.066910Z",
     "start_time": "2025-08-11T07:17:33.048355Z"
    }
   },
   "cell_type": "code",
   "source": "t[:,1:] # All rows and column 1 to end of our tensor will be extracted",
   "id": "99a5ddb8d46de8c6",
   "outputs": [
    {
     "data": {
      "text/plain": [
       "tensor([[20, 30],\n",
       "        [50, 60]])"
      ]
     },
     "execution_count": 106,
     "metadata": {},
     "output_type": "execute_result"
    }
   ],
   "execution_count": 106
  },
  {
   "metadata": {
    "ExecuteTime": {
     "end_time": "2025-08-11T07:21:26.735127Z",
     "start_time": "2025-08-11T07:21:26.722131Z"
    }
   },
   "cell_type": "code",
   "source": "t[:,:1] # All rows and until column 1 will be extracted",
   "id": "b3c02421d037f024",
   "outputs": [
    {
     "data": {
      "text/plain": [
       "tensor([[10],\n",
       "        [40]])"
      ]
     },
     "execution_count": 108,
     "metadata": {},
     "output_type": "execute_result"
    }
   ],
   "execution_count": 108
  },
  {
   "metadata": {
    "ExecuteTime": {
     "end_time": "2025-08-11T07:24:50.742285Z",
     "start_time": "2025-08-11T07:24:50.724147Z"
    }
   },
   "cell_type": "code",
   "source": "t[1:,:2] # From 1st row onwards till end for the first 2 columns will be extracted",
   "id": "174292e055f6c9f9",
   "outputs": [
    {
     "data": {
      "text/plain": [
       "tensor([[40, 50]])"
      ]
     },
     "execution_count": 110,
     "metadata": {},
     "output_type": "execute_result"
    }
   ],
   "execution_count": 110
  },
  {
   "metadata": {
    "ExecuteTime": {
     "end_time": "2025-08-11T07:26:34.671381Z",
     "start_time": "2025-08-11T07:26:34.667383Z"
    }
   },
   "cell_type": "code",
   "source": "t = torch.rand(5,3)",
   "id": "f2ac26d1488d3647",
   "outputs": [],
   "execution_count": 113
  },
  {
   "metadata": {
    "ExecuteTime": {
     "end_time": "2025-08-11T07:26:35.153693Z",
     "start_time": "2025-08-11T07:26:35.147753Z"
    }
   },
   "cell_type": "code",
   "source": "t",
   "id": "b1c3919fed67bc41",
   "outputs": [
    {
     "data": {
      "text/plain": [
       "tensor([[0.3804, 0.5170, 0.0836],\n",
       "        [0.1670, 0.6146, 0.9535],\n",
       "        [0.5341, 0.3679, 0.9148],\n",
       "        [0.6938, 0.7642, 0.5580],\n",
       "        [0.1340, 0.6843, 0.9516]])"
      ]
     },
     "execution_count": 114,
     "metadata": {},
     "output_type": "execute_result"
    }
   ],
   "execution_count": 114
  },
  {
   "metadata": {
    "ExecuteTime": {
     "end_time": "2025-08-11T07:28:30.398782Z",
     "start_time": "2025-08-11T07:28:30.381288Z"
    }
   },
   "cell_type": "code",
   "source": [
    "# Can also include steps to slice from\n",
    "\n",
    "# This will extract every 2nd row\n",
    "t[::2]"
   ],
   "id": "74e7f0290798d95f",
   "outputs": [
    {
     "data": {
      "text/plain": [
       "tensor([[0.3804, 0.5170, 0.0836],\n",
       "        [0.5341, 0.3679, 0.9148],\n",
       "        [0.1340, 0.6843, 0.9516]])"
      ]
     },
     "execution_count": 115,
     "metadata": {},
     "output_type": "execute_result"
    }
   ],
   "execution_count": 115
  },
  {
   "metadata": {
    "ExecuteTime": {
     "end_time": "2025-08-11T07:35:35.029109Z",
     "start_time": "2025-08-11T07:35:35.011251Z"
    }
   },
   "cell_type": "code",
   "source": [
    "# Negative Indexing\n",
    "t[-1] # Extracts the last row"
   ],
   "id": "735258ea1934a396",
   "outputs": [
    {
     "data": {
      "text/plain": [
       "tensor([0.1340, 0.6843, 0.9516])"
      ]
     },
     "execution_count": 118,
     "metadata": {},
     "output_type": "execute_result"
    }
   ],
   "execution_count": 118
  },
  {
   "metadata": {
    "ExecuteTime": {
     "end_time": "2025-08-11T07:35:35.639975Z",
     "start_time": "2025-08-11T07:35:35.634772Z"
    }
   },
   "cell_type": "code",
   "source": "t",
   "id": "f30dea5c94619b6d",
   "outputs": [
    {
     "data": {
      "text/plain": [
       "tensor([[0.3804, 0.5170, 0.0836],\n",
       "        [0.1670, 0.6146, 0.9535],\n",
       "        [0.5341, 0.3679, 0.9148],\n",
       "        [0.6938, 0.7642, 0.5580],\n",
       "        [0.1340, 0.6843, 0.9516]])"
      ]
     },
     "execution_count": 119,
     "metadata": {},
     "output_type": "execute_result"
    }
   ],
   "execution_count": 119
  },
  {
   "metadata": {
    "ExecuteTime": {
     "end_time": "2025-08-11T07:36:30.478571Z",
     "start_time": "2025-08-11T07:36:30.461344Z"
    }
   },
   "cell_type": "code",
   "source": "t[:,-1] ## Extracts last column",
   "id": "7ea5f8f64e4293b2",
   "outputs": [
    {
     "data": {
      "text/plain": [
       "tensor([0.0836, 0.9535, 0.9148, 0.5580, 0.9516])"
      ]
     },
     "execution_count": 121,
     "metadata": {},
     "output_type": "execute_result"
    }
   ],
   "execution_count": 121
  },
  {
   "metadata": {},
   "cell_type": "markdown",
   "source": "#### Using ... (Ellipsis)",
   "id": "2ea5824cc6862a0f"
  },
  {
   "metadata": {
    "ExecuteTime": {
     "end_time": "2025-08-11T07:37:37.307878Z",
     "start_time": "2025-08-11T07:37:37.298393Z"
    }
   },
   "cell_type": "code",
   "source": [
    "# it is a powerful shortcut. Imagine a for dimension tensor like the one we have here,\n",
    "\n",
    "x= torch.randn(2,2,2,2)"
   ],
   "id": "8c2e3c54e416f1fe",
   "outputs": [],
   "execution_count": 122
  },
  {
   "metadata": {
    "ExecuteTime": {
     "end_time": "2025-08-11T07:38:03.905406Z",
     "start_time": "2025-08-11T07:38:03.899971Z"
    }
   },
   "cell_type": "code",
   "source": "x",
   "id": "a32531c1f2192ec9",
   "outputs": [
    {
     "data": {
      "text/plain": [
       "tensor([[[[ 1.0435,  0.4778],\n",
       "          [-0.8849,  1.9661]],\n",
       "\n",
       "         [[ 1.0018,  0.7728],\n",
       "          [-0.9016, -1.3045]]],\n",
       "\n",
       "\n",
       "        [[[ 0.1634, -0.3060],\n",
       "          [ 1.0525,  2.2104]],\n",
       "\n",
       "         [[ 0.3884, -0.2120],\n",
       "          [ 0.2092, -1.9681]]]])"
      ]
     },
     "execution_count": 123,
     "metadata": {},
     "output_type": "execute_result"
    }
   ],
   "execution_count": 123
  },
  {
   "metadata": {
    "ExecuteTime": {
     "end_time": "2025-08-11T07:39:54.607031Z",
     "start_time": "2025-08-11T07:39:54.585023Z"
    }
   },
   "cell_type": "code",
   "source": [
    "# now to select 1st column of every matrix, we can just specify x ellipses comma 0\n",
    "x[...,0]"
   ],
   "id": "6eba217352dde278",
   "outputs": [
    {
     "data": {
      "text/plain": [
       "tensor([[[ 1.0435, -0.8849],\n",
       "         [ 1.0018, -0.9016]],\n",
       "\n",
       "        [[ 0.1634,  1.0525],\n",
       "         [ 0.3884,  0.2092]]])"
      ]
     },
     "execution_count": 124,
     "metadata": {},
     "output_type": "execute_result"
    }
   ],
   "execution_count": 124
  },
  {
   "metadata": {
    "ExecuteTime": {
     "end_time": "2025-08-11T07:41:11.014430Z",
     "start_time": "2025-08-11T07:41:11.004471Z"
    }
   },
   "cell_type": "code",
   "source": "myval = x[...,0] # Ellipsis means it helps to avoid wiring a lot of colons when accessing",
   "id": "518ae1cb52fc039e",
   "outputs": [],
   "execution_count": 125
  },
  {
   "metadata": {
    "ExecuteTime": {
     "end_time": "2025-08-11T07:41:18.720698Z",
     "start_time": "2025-08-11T07:41:18.696685Z"
    }
   },
   "cell_type": "code",
   "source": "myval.size()",
   "id": "f6c7c8f03332205e",
   "outputs": [
    {
     "data": {
      "text/plain": [
       "torch.Size([2, 2, 2])"
      ]
     },
     "execution_count": 127,
     "metadata": {},
     "output_type": "execute_result"
    }
   ],
   "execution_count": 127
  },
  {
   "metadata": {},
   "cell_type": "markdown",
   "source": [
    "### Masking\n",
    "#### Filtering tensor values using boolean conditions"
   ],
   "id": "deda8a3b36e28dcd"
  },
  {
   "metadata": {
    "ExecuteTime": {
     "end_time": "2025-08-11T07:45:33.896755Z",
     "start_time": "2025-08-11T07:45:33.892249Z"
    }
   },
   "cell_type": "code",
   "source": [
    "# We don't want to just slice it, but extract values based on the content.\n",
    "v = torch.tensor([1,2,3,4,5])"
   ],
   "id": "3d6e17e29186d9db",
   "outputs": [],
   "execution_count": 129
  },
  {
   "metadata": {
    "ExecuteTime": {
     "end_time": "2025-08-11T07:45:41.669180Z",
     "start_time": "2025-08-11T07:45:41.653322Z"
    }
   },
   "cell_type": "code",
   "source": "mask = v > 3",
   "id": "96d303c46a9e0f7c",
   "outputs": [],
   "execution_count": 130
  },
  {
   "metadata": {
    "ExecuteTime": {
     "end_time": "2025-08-11T07:45:44.123096Z",
     "start_time": "2025-08-11T07:45:44.106275Z"
    }
   },
   "cell_type": "code",
   "source": "mask",
   "id": "bba7a06879ed3d50",
   "outputs": [
    {
     "data": {
      "text/plain": [
       "tensor([False, False, False,  True,  True])"
      ]
     },
     "execution_count": 131,
     "metadata": {},
     "output_type": "execute_result"
    }
   ],
   "execution_count": 131
  },
  {
   "metadata": {
    "ExecuteTime": {
     "end_time": "2025-08-11T07:46:03.302807Z",
     "start_time": "2025-08-11T07:46:03.270470Z"
    }
   },
   "cell_type": "code",
   "source": "v %2 == 0 # To select even numbers",
   "id": "2cb1b1ce0b75ac",
   "outputs": [
    {
     "data": {
      "text/plain": [
       "tensor([False,  True, False,  True, False])"
      ]
     },
     "execution_count": 132,
     "metadata": {},
     "output_type": "execute_result"
    }
   ],
   "execution_count": 132
  },
  {
   "metadata": {
    "ExecuteTime": {
     "end_time": "2025-08-11T07:46:55.568393Z",
     "start_time": "2025-08-11T07:46:55.545388Z"
    }
   },
   "cell_type": "code",
   "source": "v[v%2 == 0]",
   "id": "3a4ba4c2ba1e45de",
   "outputs": [
    {
     "data": {
      "text/plain": [
       "tensor([2, 4])"
      ]
     },
     "execution_count": 134,
     "metadata": {},
     "output_type": "execute_result"
    }
   ],
   "execution_count": 134
  },
  {
   "metadata": {
    "ExecuteTime": {
     "end_time": "2025-08-11T07:47:05.508965Z",
     "start_time": "2025-08-11T07:47:05.503801Z"
    }
   },
   "cell_type": "code",
   "source": "v[v%2 == 1]",
   "id": "2e4c03af9ba1c03f",
   "outputs": [
    {
     "data": {
      "text/plain": [
       "tensor([1, 3, 5])"
      ]
     },
     "execution_count": 135,
     "metadata": {},
     "output_type": "execute_result"
    }
   ],
   "execution_count": 135
  },
  {
   "metadata": {
    "ExecuteTime": {
     "end_time": "2025-08-11T07:48:05.184403Z",
     "start_time": "2025-08-11T07:48:05.180278Z"
    }
   },
   "cell_type": "code",
   "source": [
    "# Conditions can also be stored and reused.\n",
    "\n",
    "even_mask = (v%2 == 0)"
   ],
   "id": "645f31e805ef9fc9",
   "outputs": [],
   "execution_count": 136
  },
  {
   "metadata": {
    "ExecuteTime": {
     "end_time": "2025-08-11T07:48:09.890770Z",
     "start_time": "2025-08-11T07:48:09.876870Z"
    }
   },
   "cell_type": "code",
   "source": "v[even_mask]",
   "id": "41ae2b2ac3aafbe9",
   "outputs": [
    {
     "data": {
      "text/plain": [
       "tensor([2, 4])"
      ]
     },
     "execution_count": 137,
     "metadata": {},
     "output_type": "execute_result"
    }
   ],
   "execution_count": 137
  },
  {
   "metadata": {
    "ExecuteTime": {
     "end_time": "2025-08-11T07:49:08.007810Z",
     "start_time": "2025-08-11T07:49:07.995926Z"
    }
   },
   "cell_type": "code",
   "source": "mask",
   "id": "1ce911d465577112",
   "outputs": [
    {
     "data": {
      "text/plain": [
       "tensor([False, False, False,  True,  True])"
      ]
     },
     "execution_count": 139,
     "metadata": {},
     "output_type": "execute_result"
    }
   ],
   "execution_count": 139
  },
  {
   "metadata": {
    "ExecuteTime": {
     "end_time": "2025-08-11T07:49:27.444178Z",
     "start_time": "2025-08-11T07:49:27.440761Z"
    }
   },
   "cell_type": "code",
   "source": "mask = [True, False]",
   "id": "567b9799fc41bb40",
   "outputs": [],
   "execution_count": 140
  },
  {
   "metadata": {
    "ExecuteTime": {
     "end_time": "2025-08-11T07:49:58.182477Z",
     "start_time": "2025-08-11T07:49:58.109202Z"
    }
   },
   "cell_type": "code",
   "source": [
    "v[mask]\n",
    "## Boolean mask must have the same shape of the dimension we are indexing."
   ],
   "id": "6a323b9601c428a5",
   "outputs": [
    {
     "ename": "IndexError",
     "evalue": "The shape of the mask [2] at index 0 does not match the shape of the indexed tensor [5] at index 0",
     "output_type": "error",
     "traceback": [
      "\u001B[31m---------------------------------------------------------------------------\u001B[39m",
      "\u001B[31mIndexError\u001B[39m                                Traceback (most recent call last)",
      "\u001B[36mCell\u001B[39m\u001B[36m \u001B[39m\u001B[32mIn[142]\u001B[39m\u001B[32m, line 1\u001B[39m\n\u001B[32m----> \u001B[39m\u001B[32m1\u001B[39m \u001B[43mv\u001B[49m\u001B[43m[\u001B[49m\u001B[43mmask\u001B[49m\u001B[43m]\u001B[49m\n\u001B[32m      2\u001B[39m \u001B[38;5;66;03m## Boolean mask must have the same shape of the dimension we are indexing.\u001B[39;00m\n",
      "\u001B[31mIndexError\u001B[39m: The shape of the mask [2] at index 0 does not match the shape of the indexed tensor [5] at index 0"
     ]
    }
   ],
   "execution_count": 142
  },
  {
   "metadata": {},
   "cell_type": "markdown",
   "source": [
    "### Reshaping & View\n",
    "#### Reshaping lets you change the layout of a tensor without changing the underlying data."
   ],
   "id": "f2c14d49346091c0"
  },
  {
   "metadata": {
    "ExecuteTime": {
     "end_time": "2025-08-11T07:51:40.334036Z",
     "start_time": "2025-08-11T07:51:40.310721Z"
    }
   },
   "cell_type": "code",
   "source": "t = torch.arange(12)",
   "id": "2f1a30c1450f8648",
   "outputs": [],
   "execution_count": 143
  },
  {
   "metadata": {
    "ExecuteTime": {
     "end_time": "2025-08-11T07:51:43.254286Z",
     "start_time": "2025-08-11T07:51:43.239098Z"
    }
   },
   "cell_type": "code",
   "source": "t",
   "id": "71c223f0edbbd5c2",
   "outputs": [
    {
     "data": {
      "text/plain": [
       "tensor([ 0,  1,  2,  3,  4,  5,  6,  7,  8,  9, 10, 11])"
      ]
     },
     "execution_count": 144,
     "metadata": {},
     "output_type": "execute_result"
    }
   ],
   "execution_count": 144
  },
  {
   "metadata": {
    "ExecuteTime": {
     "end_time": "2025-08-11T07:51:55.176964Z",
     "start_time": "2025-08-11T07:51:55.172962Z"
    }
   },
   "cell_type": "code",
   "source": "t_reshaped = t.reshape(3,4)",
   "id": "aa745364fe38f3a2",
   "outputs": [],
   "execution_count": 145
  },
  {
   "metadata": {
    "ExecuteTime": {
     "end_time": "2025-08-11T07:51:58.728906Z",
     "start_time": "2025-08-11T07:51:58.722927Z"
    }
   },
   "cell_type": "code",
   "source": "t_reshaped",
   "id": "5c8d4c41e7729b5f",
   "outputs": [
    {
     "data": {
      "text/plain": [
       "tensor([[ 0,  1,  2,  3],\n",
       "        [ 4,  5,  6,  7],\n",
       "        [ 8,  9, 10, 11]])"
      ]
     },
     "execution_count": 146,
     "metadata": {},
     "output_type": "execute_result"
    }
   ],
   "execution_count": 146
  },
  {
   "metadata": {
    "ExecuteTime": {
     "end_time": "2025-08-11T07:52:40.259260Z",
     "start_time": "2025-08-11T07:52:40.247695Z"
    }
   },
   "cell_type": "code",
   "source": [
    "# Same can be done using view method.\n",
    "\n",
    "t_viewed = t.view(3,4)"
   ],
   "id": "fde2bc270f20cecd",
   "outputs": [],
   "execution_count": 147
  },
  {
   "metadata": {
    "ExecuteTime": {
     "end_time": "2025-08-11T07:52:43.233091Z",
     "start_time": "2025-08-11T07:52:43.227092Z"
    }
   },
   "cell_type": "code",
   "source": "t_viewed",
   "id": "8aef8695a7b6540d",
   "outputs": [
    {
     "data": {
      "text/plain": [
       "tensor([[ 0,  1,  2,  3],\n",
       "        [ 4,  5,  6,  7],\n",
       "        [ 8,  9, 10, 11]])"
      ]
     },
     "execution_count": 148,
     "metadata": {},
     "output_type": "execute_result"
    }
   ],
   "execution_count": 148
  },
  {
   "metadata": {
    "ExecuteTime": {
     "end_time": "2025-08-11T08:26:36.715785Z",
     "start_time": "2025-08-11T08:26:36.710342Z"
    }
   },
   "cell_type": "code",
   "source": "# Reshape and viewed both do the same, but .reshape is more flexible method and .view is slightly faster",
   "id": "edc2c04dff764457",
   "outputs": [],
   "execution_count": 149
  },
  {
   "metadata": {
    "ExecuteTime": {
     "end_time": "2025-08-11T08:27:47.821016Z",
     "start_time": "2025-08-11T08:27:47.815015Z"
    }
   },
   "cell_type": "code",
   "source": [
    "t_reshaped.reshape(-1) # is a shorthand to flatten a 1D vector\n",
    "# regardless of its original shape,  the number of elements must remain same when you are reshapping"
   ],
   "id": "b7ce3932940afda7",
   "outputs": [
    {
     "data": {
      "text/plain": [
       "tensor([ 0,  1,  2,  3,  4,  5,  6,  7,  8,  9, 10, 11])"
      ]
     },
     "execution_count": 151,
     "metadata": {},
     "output_type": "execute_result"
    }
   ],
   "execution_count": 151
  },
  {
   "metadata": {
    "ExecuteTime": {
     "end_time": "2025-08-11T08:29:36.535159Z",
     "start_time": "2025-08-11T08:29:36.507290Z"
    }
   },
   "cell_type": "code",
   "source": [
    "t_reshaped.reshape(5,3)\n",
    "# expected error when the reshaping doesn't meet the total elements count."
   ],
   "id": "27c8c3ee2048181c",
   "outputs": [
    {
     "ename": "RuntimeError",
     "evalue": "shape '[5, 3]' is invalid for input of size 12",
     "output_type": "error",
     "traceback": [
      "\u001B[31m---------------------------------------------------------------------------\u001B[39m",
      "\u001B[31mRuntimeError\u001B[39m                              Traceback (most recent call last)",
      "\u001B[36mCell\u001B[39m\u001B[36m \u001B[39m\u001B[32mIn[155]\u001B[39m\u001B[32m, line 1\u001B[39m\n\u001B[32m----> \u001B[39m\u001B[32m1\u001B[39m \u001B[43mt_reshaped\u001B[49m\u001B[43m.\u001B[49m\u001B[43mreshape\u001B[49m\u001B[43m(\u001B[49m\u001B[32;43m5\u001B[39;49m\u001B[43m,\u001B[49m\u001B[32;43m3\u001B[39;49m\u001B[43m)\u001B[49m\n\u001B[32m      2\u001B[39m \u001B[38;5;66;03m# expected error when the reshaping doesn't meet the total elements count.\u001B[39;00m\n",
      "\u001B[31mRuntimeError\u001B[39m: shape '[5, 3]' is invalid for input of size 12"
     ]
    }
   ],
   "execution_count": 155
  },
  {
   "metadata": {},
   "cell_type": "markdown",
   "source": "### Adding or Removing Dimensions",
   "id": "dab71b6f7f27199c"
  },
  {
   "metadata": {
    "ExecuteTime": {
     "end_time": "2025-08-11T08:30:07.625902Z",
     "start_time": "2025-08-11T08:30:07.621915Z"
    }
   },
   "cell_type": "code",
   "source": "v = torch.tensor([1.0,2.0,3.0])",
   "id": "9af612fa6a4fc48a",
   "outputs": [],
   "execution_count": 156
  },
  {
   "metadata": {
    "ExecuteTime": {
     "end_time": "2025-08-11T08:30:10.296209Z",
     "start_time": "2025-08-11T08:30:10.290935Z"
    }
   },
   "cell_type": "code",
   "source": "v.shape",
   "id": "28942f646c5eadb9",
   "outputs": [
    {
     "data": {
      "text/plain": [
       "torch.Size([3])"
      ]
     },
     "execution_count": 157,
     "metadata": {},
     "output_type": "execute_result"
    }
   ],
   "execution_count": 157
  },
  {
   "metadata": {
    "ExecuteTime": {
     "end_time": "2025-08-11T08:31:44.528573Z",
     "start_time": "2025-08-11T08:31:44.511446Z"
    }
   },
   "cell_type": "code",
   "source": [
    "# use unsqueezed method to add a dimension of size 1\n",
    "# to convert to 2d vector.\n",
    "\n",
    "v_unsq = v.unsqueeze(0)\n",
    "# this now converts the size from 1 x 3"
   ],
   "id": "7fdf7393297efb67",
   "outputs": [],
   "execution_count": 158
  },
  {
   "metadata": {
    "ExecuteTime": {
     "end_time": "2025-08-11T08:31:47.890780Z",
     "start_time": "2025-08-11T08:31:47.884951Z"
    }
   },
   "cell_type": "code",
   "source": "v_unsq",
   "id": "f5fc742cd8534c8a",
   "outputs": [
    {
     "data": {
      "text/plain": [
       "tensor([[1., 2., 3.]])"
      ]
     },
     "execution_count": 159,
     "metadata": {},
     "output_type": "execute_result"
    }
   ],
   "execution_count": 159
  },
  {
   "metadata": {
    "ExecuteTime": {
     "end_time": "2025-08-11T08:32:45.025255Z",
     "start_time": "2025-08-11T08:32:45.008206Z"
    }
   },
   "cell_type": "code",
   "source": "type(v_unsq)\n",
   "id": "608b4be8e84ff2e8",
   "outputs": [
    {
     "data": {
      "text/plain": [
       "torch.Tensor"
      ]
     },
     "execution_count": 162,
     "metadata": {},
     "output_type": "execute_result"
    }
   ],
   "execution_count": 162
  },
  {
   "metadata": {
    "ExecuteTime": {
     "end_time": "2025-08-11T08:32:14.153249Z",
     "start_time": "2025-08-11T08:32:14.147354Z"
    }
   },
   "cell_type": "code",
   "source": "v_unsq.shape",
   "id": "43a7fbca113817f1",
   "outputs": [
    {
     "data": {
      "text/plain": [
       "torch.Size([1, 3])"
      ]
     },
     "execution_count": 161,
     "metadata": {},
     "output_type": "execute_result"
    }
   ],
   "execution_count": 161
  },
  {
   "metadata": {
    "ExecuteTime": {
     "end_time": "2025-08-11T08:33:12.112672Z",
     "start_time": "2025-08-11T08:33:12.109249Z"
    }
   },
   "cell_type": "code",
   "source": [
    "v_unsq = v.unsqueeze(1)\n",
    "# to convert to 3 x 1"
   ],
   "id": "af1ea76963801377",
   "outputs": [],
   "execution_count": 164
  },
  {
   "metadata": {
    "ExecuteTime": {
     "end_time": "2025-08-11T08:33:19.739197Z",
     "start_time": "2025-08-11T08:33:19.734366Z"
    }
   },
   "cell_type": "code",
   "source": "v_unsq.shape",
   "id": "2e1eec08279d1fa5",
   "outputs": [
    {
     "data": {
      "text/plain": [
       "torch.Size([3, 1])"
      ]
     },
     "execution_count": 165,
     "metadata": {},
     "output_type": "execute_result"
    }
   ],
   "execution_count": 165
  },
  {
   "metadata": {
    "ExecuteTime": {
     "end_time": "2025-08-11T08:33:36.386001Z",
     "start_time": "2025-08-11T08:33:36.380246Z"
    }
   },
   "cell_type": "code",
   "source": "v_unsq",
   "id": "5ac28fc35a24a7b7",
   "outputs": [
    {
     "data": {
      "text/plain": [
       "tensor([[1.],\n",
       "        [2.],\n",
       "        [3.]])"
      ]
     },
     "execution_count": 166,
     "metadata": {},
     "output_type": "execute_result"
    }
   ],
   "execution_count": 166
  },
  {
   "metadata": {
    "ExecuteTime": {
     "end_time": "2025-08-11T08:34:34.179437Z",
     "start_time": "2025-08-11T08:34:34.174172Z"
    }
   },
   "cell_type": "code",
   "source": [
    "# to go back, you can use .squeeze method.\n",
    "# squeeze method removes all dimensions in the tensor that have a size 1\n",
    "v_unsq.squeeze()"
   ],
   "id": "a476a7e9bd84e4bb",
   "outputs": [
    {
     "data": {
      "text/plain": [
       "tensor([1., 2., 3.])"
      ]
     },
     "execution_count": 168,
     "metadata": {},
     "output_type": "execute_result"
    }
   ],
   "execution_count": 168
  },
  {
   "metadata": {},
   "cell_type": "markdown",
   "source": "#### To summarize, we use reshape or view to change the shape and squeeze and unsqueeze to control the number of dimensions.",
   "id": "bcf50d9f4e63a6c3"
  },
  {
   "metadata": {},
   "cell_type": "markdown",
   "source": "#### Transpose or permute to reorder the dimensions.",
   "id": "f3d96df3c310526d"
  },
  {
   "metadata": {
    "ExecuteTime": {
     "end_time": "2025-08-11T08:36:20.833650Z",
     "start_time": "2025-08-11T08:36:20.829646Z"
    }
   },
   "cell_type": "code",
   "source": [
    "m = torch.tensor([[1,2],\n",
    "                  [3,4]\n",
    "])"
   ],
   "id": "5d8bb9c41568faf7",
   "outputs": [],
   "execution_count": 169
  },
  {
   "metadata": {
    "ExecuteTime": {
     "end_time": "2025-08-11T08:36:44.642198Z",
     "start_time": "2025-08-11T08:36:44.637099Z"
    }
   },
   "cell_type": "code",
   "source": "print(m)",
   "id": "b6862ab1f782b4af",
   "outputs": [
    {
     "name": "stdout",
     "output_type": "stream",
     "text": [
      "tensor([[1, 2],\n",
      "        [3, 4]])\n"
     ]
    }
   ],
   "execution_count": 173
  },
  {
   "metadata": {
    "ExecuteTime": {
     "end_time": "2025-08-11T08:36:30.023321Z",
     "start_time": "2025-08-11T08:36:30.018544Z"
    }
   },
   "cell_type": "code",
   "source": "m.size()",
   "id": "26419a801907cf31",
   "outputs": [
    {
     "data": {
      "text/plain": [
       "torch.Size([2, 2])"
      ]
     },
     "execution_count": 171,
     "metadata": {},
     "output_type": "execute_result"
    }
   ],
   "execution_count": 171
  },
  {
   "metadata": {
    "ExecuteTime": {
     "end_time": "2025-08-11T08:36:33.145161Z",
     "start_time": "2025-08-11T08:36:33.140236Z"
    }
   },
   "cell_type": "code",
   "source": "m.shape",
   "id": "e7cc1cff135f3001",
   "outputs": [
    {
     "data": {
      "text/plain": [
       "torch.Size([2, 2])"
      ]
     },
     "execution_count": 172,
     "metadata": {},
     "output_type": "execute_result"
    }
   ],
   "execution_count": 172
  },
  {
   "metadata": {
    "ExecuteTime": {
     "end_time": "2025-08-11T08:36:57.709638Z",
     "start_time": "2025-08-11T08:36:57.704640Z"
    }
   },
   "cell_type": "code",
   "source": "print(m.T)",
   "id": "95a91c9c82579843",
   "outputs": [
    {
     "name": "stdout",
     "output_type": "stream",
     "text": [
      "tensor([[1, 3],\n",
      "        [2, 4]])\n"
     ]
    }
   ],
   "execution_count": 175
  },
  {
   "metadata": {
    "ExecuteTime": {
     "end_time": "2025-08-11T08:37:33.314450Z",
     "start_time": "2025-08-11T08:37:33.298449Z"
    }
   },
   "cell_type": "code",
   "source": [
    "# .transpose(dim1, dim2)\n",
    "\n",
    "t= torch.randn(2,3,4)"
   ],
   "id": "59f81e32b0a38e77",
   "outputs": [],
   "execution_count": 176
  },
  {
   "metadata": {
    "ExecuteTime": {
     "end_time": "2025-08-11T08:37:36.459155Z",
     "start_time": "2025-08-11T08:37:36.453137Z"
    }
   },
   "cell_type": "code",
   "source": "t",
   "id": "3ab366ac4c304f64",
   "outputs": [
    {
     "data": {
      "text/plain": [
       "tensor([[[-0.3833, -0.5715,  0.2091,  1.4770],\n",
       "         [ 2.0306, -0.7267, -0.3420, -0.9453],\n",
       "         [-0.9813,  1.3105,  0.0776, -0.4424]],\n",
       "\n",
       "        [[-0.5071,  1.3319, -0.9020, -2.0356],\n",
       "         [-0.0244,  0.0156, -2.3400, -1.1837],\n",
       "         [ 0.9360,  0.4637,  0.4529,  1.3952]]])"
      ]
     },
     "execution_count": 177,
     "metadata": {},
     "output_type": "execute_result"
    }
   ],
   "execution_count": 177
  },
  {
   "metadata": {
    "ExecuteTime": {
     "end_time": "2025-08-11T08:37:48.707290Z",
     "start_time": "2025-08-11T08:37:48.702408Z"
    }
   },
   "cell_type": "code",
   "source": "t.size()",
   "id": "f27dafeafa069b9c",
   "outputs": [
    {
     "data": {
      "text/plain": [
       "torch.Size([2, 3, 4])"
      ]
     },
     "execution_count": 179,
     "metadata": {},
     "output_type": "execute_result"
    }
   ],
   "execution_count": 179
  },
  {
   "metadata": {
    "ExecuteTime": {
     "end_time": "2025-08-11T08:40:17.322390Z",
     "start_time": "2025-08-11T08:40:17.318388Z"
    }
   },
   "cell_type": "code",
   "source": "val2 = t.transpose(1,2)",
   "id": "92a3bfeaeef92a68",
   "outputs": [],
   "execution_count": 183
  },
  {
   "metadata": {
    "ExecuteTime": {
     "end_time": "2025-08-11T08:40:20.217494Z",
     "start_time": "2025-08-11T08:40:20.212503Z"
    }
   },
   "cell_type": "code",
   "source": "val2",
   "id": "1484f742756429cf",
   "outputs": [
    {
     "data": {
      "text/plain": [
       "tensor([[[-0.3833,  2.0306, -0.9813],\n",
       "         [-0.5715, -0.7267,  1.3105],\n",
       "         [ 0.2091, -0.3420,  0.0776],\n",
       "         [ 1.4770, -0.9453, -0.4424]],\n",
       "\n",
       "        [[-0.5071, -0.0244,  0.9360],\n",
       "         [ 1.3319,  0.0156,  0.4637],\n",
       "         [-0.9020, -2.3400,  0.4529],\n",
       "         [-2.0356, -1.1837,  1.3952]]])"
      ]
     },
     "execution_count": 184,
     "metadata": {},
     "output_type": "execute_result"
    }
   ],
   "execution_count": 184
  },
  {
   "metadata": {
    "ExecuteTime": {
     "end_time": "2025-08-11T08:40:25.733199Z",
     "start_time": "2025-08-11T08:40:25.728785Z"
    }
   },
   "cell_type": "code",
   "source": "val2.size()",
   "id": "395bd8458f57b292",
   "outputs": [
    {
     "data": {
      "text/plain": [
       "torch.Size([2, 4, 3])"
      ]
     },
     "execution_count": 185,
     "metadata": {},
     "output_type": "execute_result"
    }
   ],
   "execution_count": 185
  },
  {
   "metadata": {
    "ExecuteTime": {
     "end_time": "2025-08-11T08:41:08.007267Z",
     "start_time": "2025-08-11T08:41:08.000673Z"
    }
   },
   "cell_type": "code",
   "source": "# this is useful when our model or library expects dimensions in a different order.",
   "id": "c951e98a6f5b4629",
   "outputs": [],
   "execution_count": 186
  },
  {
   "metadata": {},
   "cell_type": "markdown",
   "source": [
    "### Permute\n",
    "#### Use permute to completely reorder the dimensions."
   ],
   "id": "d787df37f9de7909"
  },
  {
   "metadata": {
    "ExecuteTime": {
     "end_time": "2025-08-11T08:42:14.581799Z",
     "start_time": "2025-08-11T08:42:14.577503Z"
    }
   },
   "cell_type": "code",
   "source": "t = torch.randn(2,3,4)",
   "id": "1e5f76d73ea278ab",
   "outputs": [],
   "execution_count": 188
  },
  {
   "metadata": {
    "ExecuteTime": {
     "end_time": "2025-08-11T08:42:16.751560Z",
     "start_time": "2025-08-11T08:42:16.746117Z"
    }
   },
   "cell_type": "code",
   "source": "t",
   "id": "5968f607fcaa265d",
   "outputs": [
    {
     "data": {
      "text/plain": [
       "tensor([[[ 2.1616, -0.5871, -0.9930,  1.2083],\n",
       "         [ 0.3896, -0.7128, -0.1248,  0.3212],\n",
       "         [ 1.8046, -1.5825, -1.5857, -0.7815]],\n",
       "\n",
       "        [[-0.3154,  0.2106,  0.3306,  0.1851],\n",
       "         [-0.9259, -0.8557, -1.6866,  0.4612],\n",
       "         [ 0.4784, -1.6024,  0.2834, -1.1194]]])"
      ]
     },
     "execution_count": 189,
     "metadata": {},
     "output_type": "execute_result"
    }
   ],
   "execution_count": 189
  },
  {
   "metadata": {
    "ExecuteTime": {
     "end_time": "2025-08-11T08:42:20.375127Z",
     "start_time": "2025-08-11T08:42:20.368031Z"
    }
   },
   "cell_type": "code",
   "source": "t.size()",
   "id": "b85311c3f1594364",
   "outputs": [
    {
     "data": {
      "text/plain": [
       "torch.Size([2, 3, 4])"
      ]
     },
     "execution_count": 190,
     "metadata": {},
     "output_type": "execute_result"
    }
   ],
   "execution_count": 190
  },
  {
   "metadata": {
    "ExecuteTime": {
     "end_time": "2025-08-11T08:42:37.992801Z",
     "start_time": "2025-08-11T08:42:37.976602Z"
    }
   },
   "cell_type": "code",
   "source": "t.permute(0,2,1).shape",
   "id": "302e2b519f3e8a87",
   "outputs": [
    {
     "data": {
      "text/plain": [
       "torch.Size([2, 4, 3])"
      ]
     },
     "execution_count": 191,
     "metadata": {},
     "output_type": "execute_result"
    }
   ],
   "execution_count": 191
  },
  {
   "metadata": {
    "ExecuteTime": {
     "end_time": "2025-08-11T08:42:57.975786Z",
     "start_time": "2025-08-11T08:42:57.971689Z"
    }
   },
   "cell_type": "code",
   "source": "val3 = t.permute(0,2,1)",
   "id": "7296e76f98085209",
   "outputs": [],
   "execution_count": 192
  },
  {
   "metadata": {
    "ExecuteTime": {
     "end_time": "2025-08-11T08:42:59.777042Z",
     "start_time": "2025-08-11T08:42:59.771673Z"
    }
   },
   "cell_type": "code",
   "source": "val3",
   "id": "c482b2ae26060702",
   "outputs": [
    {
     "data": {
      "text/plain": [
       "tensor([[[ 2.1616,  0.3896,  1.8046],\n",
       "         [-0.5871, -0.7128, -1.5825],\n",
       "         [-0.9930, -0.1248, -1.5857],\n",
       "         [ 1.2083,  0.3212, -0.7815]],\n",
       "\n",
       "        [[-0.3154, -0.9259,  0.4784],\n",
       "         [ 0.2106, -0.8557, -1.6024],\n",
       "         [ 0.3306, -1.6866,  0.2834],\n",
       "         [ 0.1851,  0.4612, -1.1194]]])"
      ]
     },
     "execution_count": 193,
     "metadata": {},
     "output_type": "execute_result"
    }
   ],
   "execution_count": 193
  },
  {
   "metadata": {
    "ExecuteTime": {
     "end_time": "2025-08-11T08:43:27.088401Z",
     "start_time": "2025-08-11T08:43:27.083891Z"
    }
   },
   "cell_type": "code",
   "source": "val3.size()",
   "id": "cca464e117372bf0",
   "outputs": [
    {
     "data": {
      "text/plain": [
       "torch.Size([2, 4, 3])"
      ]
     },
     "execution_count": 194,
     "metadata": {},
     "output_type": "execute_result"
    }
   ],
   "execution_count": 194
  },
  {
   "metadata": {},
   "cell_type": "markdown",
   "source": [
    "### .expand() - No data copy\n",
    "#### To expand or repeat data without copying."
   ],
   "id": "bd6457408a0a203"
  },
  {
   "metadata": {
    "ExecuteTime": {
     "end_time": "2025-08-11T08:45:31.363811Z",
     "start_time": "2025-08-11T08:45:31.357806Z"
    }
   },
   "cell_type": "code",
   "source": [
    "x = torch.tensor([[1],\n",
    "                  [2],\n",
    "                  [3]])"
   ],
   "id": "8e1d544e0cc7112c",
   "outputs": [],
   "execution_count": 195
  },
  {
   "metadata": {
    "ExecuteTime": {
     "end_time": "2025-08-11T08:45:39.100960Z",
     "start_time": "2025-08-11T08:45:39.095561Z"
    }
   },
   "cell_type": "code",
   "source": "x.shape",
   "id": "48c54ddb4bd160e3",
   "outputs": [
    {
     "data": {
      "text/plain": [
       "torch.Size([3, 1])"
      ]
     },
     "execution_count": 196,
     "metadata": {},
     "output_type": "execute_result"
    }
   ],
   "execution_count": 196
  },
  {
   "metadata": {
    "ExecuteTime": {
     "end_time": "2025-08-11T08:46:09.105339Z",
     "start_time": "2025-08-11T08:46:09.083228Z"
    }
   },
   "cell_type": "code",
   "source": "x_expanded = x.expand(3,4)",
   "id": "afcb8f96b9b6ae52",
   "outputs": [],
   "execution_count": 197
  },
  {
   "metadata": {
    "ExecuteTime": {
     "end_time": "2025-08-11T08:46:48.936201Z",
     "start_time": "2025-08-11T08:46:48.930201Z"
    }
   },
   "cell_type": "code",
   "source": "x_expanded # this is memory efficient, where it creates a view and not a new tensor",
   "id": "83276668feec254e",
   "outputs": [
    {
     "data": {
      "text/plain": [
       "tensor([[1, 1, 1, 1],\n",
       "        [2, 2, 2, 2],\n",
       "        [3, 3, 3, 3]])"
      ]
     },
     "execution_count": 199,
     "metadata": {},
     "output_type": "execute_result"
    }
   ],
   "execution_count": 199
  },
  {
   "metadata": {},
   "cell_type": "markdown",
   "source": [
    "### .repeat()\n",
    "#### Makes Actual Copies"
   ],
   "id": "3ddaa4a31e7a9879"
  },
  {
   "metadata": {
    "ExecuteTime": {
     "end_time": "2025-08-11T08:47:20.930020Z",
     "start_time": "2025-08-11T08:47:20.914704Z"
    }
   },
   "cell_type": "code",
   "source": "x_repeated = x.repeat(1,4)",
   "id": "4595d4f15814a8a6",
   "outputs": [],
   "execution_count": 200
  },
  {
   "metadata": {
    "ExecuteTime": {
     "end_time": "2025-08-11T08:47:24.164680Z",
     "start_time": "2025-08-11T08:47:24.157280Z"
    }
   },
   "cell_type": "code",
   "source": "x_repeated # Creates brand new tensor with values. Slower as uses memory.",
   "id": "4128b84ebff86631",
   "outputs": [
    {
     "data": {
      "text/plain": [
       "tensor([[1, 1, 1, 1],\n",
       "        [2, 2, 2, 2],\n",
       "        [3, 3, 3, 3]])"
      ]
     },
     "execution_count": 201,
     "metadata": {},
     "output_type": "execute_result"
    }
   ],
   "execution_count": 201
  },
  {
   "metadata": {},
   "cell_type": "code",
   "outputs": [],
   "execution_count": null,
   "source": "",
   "id": "8195c38340504982"
  }
 ],
 "metadata": {
  "kernelspec": {
   "display_name": "Python 3",
   "language": "python",
   "name": "python3"
  },
  "language_info": {
   "codemirror_mode": {
    "name": "ipython",
    "version": 2
   },
   "file_extension": ".py",
   "mimetype": "text/x-python",
   "name": "python",
   "nbconvert_exporter": "python",
   "pygments_lexer": "ipython2",
   "version": "2.7.6"
  }
 },
 "nbformat": 4,
 "nbformat_minor": 5
}
